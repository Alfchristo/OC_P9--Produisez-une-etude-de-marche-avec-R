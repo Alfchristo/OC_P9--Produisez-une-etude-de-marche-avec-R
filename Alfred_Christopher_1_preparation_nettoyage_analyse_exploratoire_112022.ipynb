{
 "cells": [
  {
   "cell_type": "markdown",
   "id": "22ee1c69",
   "metadata": {},
   "source": [
    "<h1> Produisez une étude de marché avec R ou Python </h1>"
   ]
  },
  {
   "cell_type": "code",
   "execution_count": 1,
   "id": "f022b9d7",
   "metadata": {},
   "outputs": [
    {
     "name": "stderr",
     "output_type": "stream",
     "text": [
      "Warning message:\n",
      "\"package 'tidyr' was built under R version 4.1.3\"\n",
      "Warning message:\n",
      "\"package 'dplyr' was built under R version 4.1.3\"\n",
      "\n",
      "Attaching package: 'dplyr'\n",
      "\n",
      "\n",
      "The following objects are masked from 'package:stats':\n",
      "\n",
      "    filter, lag\n",
      "\n",
      "\n",
      "The following objects are masked from 'package:base':\n",
      "\n",
      "    intersect, setdiff, setequal, union\n",
      "\n",
      "\n"
     ]
    }
   ],
   "source": [
    "library(tidyr)\n",
    "library(dplyr)"
   ]
  },
  {
   "cell_type": "markdown",
   "id": "4922f672",
   "metadata": {},
   "source": [
    "<h1> 1 - Importation des Données </h1>"
   ]
  },
  {
   "cell_type": "markdown",
   "id": "173db222",
   "metadata": {},
   "source": [
    "<h2> Disponibilité Alimentaire et Population </h2>"
   ]
  },
  {
   "cell_type": "code",
   "execution_count": 2,
   "id": "f0416f68",
   "metadata": {},
   "outputs": [],
   "source": [
    "dispo_alimentaire = read.csv(\"~/OpenClassrooms/Projet 9/data/DisponibiliteAlimentaire_2017.csv\", \n",
    "    encoding = \"UTF-8\")\n",
    "population_2000_2018 = read.csv(\"~/OpenClassrooms/Projet 9/data/population_2000_2018.csv\", \n",
    "    encoding = \"UTF-8\")"
   ]
  },
  {
   "cell_type": "markdown",
   "id": "f49e7fea",
   "metadata": {},
   "source": [
    "<h3> Disponibilité Alimentaire </h3>"
   ]
  },
  {
   "cell_type": "code",
   "execution_count": 3,
   "id": "1de4bb70",
   "metadata": {},
   "outputs": [
    {
     "data": {
      "text/plain": [
       " X.U.FEFF.Code.Domaine   Domaine            Code.zone         Zone          \n",
       " Length:176600         Length:176600      Min.   :  1.0   Length:176600     \n",
       " Class :character      Class :character   1st Qu.: 63.0   Class :character  \n",
       " Mode  :character      Mode  :character   Median :120.0   Mode  :character  \n",
       "                                          Mean   :125.5                     \n",
       "                                          3rd Qu.:188.0                     \n",
       "                                          Max.   :276.0                     \n",
       "  Code.Élément    Élément           Code.Produit    Produit         \n",
       " Min.   : 645   Length:176600      Min.   :2511   Length:176600     \n",
       " 1st Qu.: 684   Class :character   1st Qu.:2556   Class :character  \n",
       " Median :5142   Mode  :character   Median :2612   Mode  :character  \n",
       " Mean   :3810                      Mean   :2629                     \n",
       " 3rd Qu.:5301                      3rd Qu.:2732                     \n",
       " Max.   :5911                      Max.   :2899                     \n",
       "   Code.année       Année         Unité               Valeur        \n",
       " Min.   :2017   Min.   :2017   Length:176600      Min.   :-10388.0  \n",
       " 1st Qu.:2017   1st Qu.:2017   Class :character   1st Qu.:     0.0  \n",
       " Median :2017   Median :2017   Mode  :character   Median :     0.1  \n",
       " Mean   :2017   Mean   :2017                      Mean   :   210.6  \n",
       " 3rd Qu.:2017   3rd Qu.:2017                      3rd Qu.:     8.5  \n",
       " Max.   :2017   Max.   :2017                      Max.   :758548.0  \n",
       "   Symbole          Description.du.Symbole\n",
       " Length:176600      Length:176600         \n",
       " Class :character   Class :character      \n",
       " Mode  :character   Mode  :character      \n",
       "                                          \n",
       "                                          \n",
       "                                          "
      ]
     },
     "metadata": {},
     "output_type": "display_data"
    }
   ],
   "source": [
    "summary(dispo_alimentaire)"
   ]
  },
  {
   "cell_type": "code",
   "execution_count": 4,
   "id": "5f2f2e68",
   "metadata": {
    "scrolled": true
   },
   "outputs": [
    {
     "data": {
      "text/html": [
       "<table class=\"dataframe\">\n",
       "<caption>A tibble: 6 × 6</caption>\n",
       "<thead>\n",
       "\t<tr><th scope=col>Zone</th><th scope=col>Production Viande de Volailles Milliers de tonnes</th><th scope=col>Importations - Quantité Viande de Volailles Milliers de tonnes</th><th scope=col>Variation de stock Viande de Volailles Milliers de tonnes</th><th scope=col>Disponibilité intérieure Viande de Volailles Milliers de tonnes</th><th scope=col>Exportations - Quantité Viande de Volailles Milliers de tonnes</th></tr>\n",
       "\t<tr><th scope=col>&lt;chr&gt;</th><th scope=col>&lt;dbl&gt;</th><th scope=col>&lt;dbl&gt;</th><th scope=col>&lt;dbl&gt;</th><th scope=col>&lt;dbl&gt;</th><th scope=col>&lt;dbl&gt;</th></tr>\n",
       "</thead>\n",
       "<tbody>\n",
       "\t<tr><td>Afghanistan   </td><td>  28</td><td> 29</td><td>  0</td><td>  57</td><td> NA</td></tr>\n",
       "\t<tr><td>Afrique du Sud</td><td>1667</td><td>514</td><td>  0</td><td>2118</td><td> 63</td></tr>\n",
       "\t<tr><td>Albanie       </td><td>  13</td><td> 38</td><td>  4</td><td>  47</td><td>  0</td></tr>\n",
       "\t<tr><td>Algérie       </td><td> 275</td><td>  2</td><td>  0</td><td> 277</td><td>  0</td></tr>\n",
       "\t<tr><td>Allemagne     </td><td>1514</td><td>842</td><td>-29</td><td>1739</td><td>646</td></tr>\n",
       "\t<tr><td>Angola        </td><td>  42</td><td>277</td><td>  0</td><td> 319</td><td>  0</td></tr>\n",
       "</tbody>\n",
       "</table>\n"
      ],
      "text/latex": [
       "A tibble: 6 × 6\n",
       "\\begin{tabular}{llllll}\n",
       " Zone & Production Viande de Volailles Milliers de tonnes & Importations - Quantité Viande de Volailles Milliers de tonnes & Variation de stock Viande de Volailles Milliers de tonnes & Disponibilité intérieure Viande de Volailles Milliers de tonnes & Exportations - Quantité Viande de Volailles Milliers de tonnes\\\\\n",
       " <chr> & <dbl> & <dbl> & <dbl> & <dbl> & <dbl>\\\\\n",
       "\\hline\n",
       "\t Afghanistan    &   28 &  29 &   0 &   57 &  NA\\\\\n",
       "\t Afrique du Sud & 1667 & 514 &   0 & 2118 &  63\\\\\n",
       "\t Albanie        &   13 &  38 &   4 &   47 &   0\\\\\n",
       "\t Algérie        &  275 &   2 &   0 &  277 &   0\\\\\n",
       "\t Allemagne      & 1514 & 842 & -29 & 1739 & 646\\\\\n",
       "\t Angola         &   42 & 277 &   0 &  319 &   0\\\\\n",
       "\\end{tabular}\n"
      ],
      "text/markdown": [
       "\n",
       "A tibble: 6 × 6\n",
       "\n",
       "| Zone &lt;chr&gt; | Production Viande de Volailles Milliers de tonnes &lt;dbl&gt; | Importations - Quantité Viande de Volailles Milliers de tonnes &lt;dbl&gt; | Variation de stock Viande de Volailles Milliers de tonnes &lt;dbl&gt; | Disponibilité intérieure Viande de Volailles Milliers de tonnes &lt;dbl&gt; | Exportations - Quantité Viande de Volailles Milliers de tonnes &lt;dbl&gt; |\n",
       "|---|---|---|---|---|---|\n",
       "| Afghanistan    |   28 |  29 |   0 |   57 |  NA |\n",
       "| Afrique du Sud | 1667 | 514 |   0 | 2118 |  63 |\n",
       "| Albanie        |   13 |  38 |   4 |   47 |   0 |\n",
       "| Algérie        |  275 |   2 |   0 |  277 |   0 |\n",
       "| Allemagne      | 1514 | 842 | -29 | 1739 | 646 |\n",
       "| Angola         |   42 | 277 |   0 |  319 |   0 |\n",
       "\n"
      ],
      "text/plain": [
       "  Zone           Production Viande de Volailles Milliers de tonnes\n",
       "1 Afghanistan      28                                             \n",
       "2 Afrique du Sud 1667                                             \n",
       "3 Albanie          13                                             \n",
       "4 Algérie         275                                             \n",
       "5 Allemagne      1514                                             \n",
       "6 Angola           42                                             \n",
       "  Importations - Quantité Viande de Volailles Milliers de tonnes\n",
       "1  29                                                           \n",
       "2 514                                                           \n",
       "3  38                                                           \n",
       "4   2                                                           \n",
       "5 842                                                           \n",
       "6 277                                                           \n",
       "  Variation de stock Viande de Volailles Milliers de tonnes\n",
       "1   0                                                      \n",
       "2   0                                                      \n",
       "3   4                                                      \n",
       "4   0                                                      \n",
       "5 -29                                                      \n",
       "6   0                                                      \n",
       "  Disponibilité intérieure Viande de Volailles Milliers de tonnes\n",
       "1   57                                                           \n",
       "2 2118                                                           \n",
       "3   47                                                           \n",
       "4  277                                                           \n",
       "5 1739                                                           \n",
       "6  319                                                           \n",
       "  Exportations - Quantité Viande de Volailles Milliers de tonnes\n",
       "1  NA                                                           \n",
       "2  63                                                           \n",
       "3   0                                                           \n",
       "4   0                                                           \n",
       "5 646                                                           \n",
       "6   0                                                           "
      ]
     },
     "metadata": {},
     "output_type": "display_data"
    }
   ],
   "source": [
    "#On définit une liste de produits que nous voulons etudier pour ensuite filtré nos variables \"produits agricoles\" par rapports à notre liste\n",
    "liste_produits = c( \n",
    "                    \"Viande, volaille\", \"Viande de Volailles\", \"Viande poids vif, poulet\")\n",
    "liste_produits_complet = c(\"Avoine\", \"Blé et produits\", \"Blé\", \"Mais\",\"Maïs et produits\",\"Maïs\", \"Oeufs\", \"Œufs de poule en coquille\", \n",
    "                    \"Viande, volaille\", \"Viande de Volailles\", \"Viande poids vif, poulet\")\n",
    "#filtrage données\n",
    "dispo_alimentaire = filter(dispo_alimentaire, Produit %in% liste_produits)\n",
    "dispo_alimentaire = filter(dispo_alimentaire, Élément %in% c(\"Production\", \"Importations - Quantité\",\"Variation de stock\", \n",
    "                                                            \"Exportations - Quantité\", \"Disponibilité intérieure\"))\n",
    "                                                            \n",
    "dispo_alimentaire[\"Dispo_Produit\"] = paste(dispo_alimentaire$Élément, dispo_alimentaire$Produit)\n",
    "dispo_alimentaire[\"Dispo_Produit\"] = paste(dispo_alimentaire$Dispo_Produit, dispo_alimentaire$Unité)\n",
    "dispo_alimentaire_concat = dispo_alimentaire[, c(\"Zone\", \"Dispo_Produit\", \"Valeur\")]\n",
    "dispo_alimentaire_concat = dispo_alimentaire_concat %>% pivot_wider(names_from = Dispo_Produit, values_from = Valeur)\n",
    "head(dispo_alimentaire_concat)"
   ]
  },
  {
   "cell_type": "code",
   "execution_count": 5,
   "id": "c39d266d",
   "metadata": {},
   "outputs": [
    {
     "name": "stdout",
     "output_type": "stream",
     "text": [
      "[1] \"On a Viande de Volailles comme Produit unique\"\n",
      "[1] \"On a Milliers de tonnes comme unité\"\n",
      "[1] \"On a 170 Pays\"\n",
      "[1] \"On a 38 valeurs manquante\"\n"
     ]
    }
   ],
   "source": [
    "print(paste(\"On a\", list(unique(dispo_alimentaire$Produit)) ,\"comme Produit unique\"))\n",
    "print(paste(\"On a\", list(unique(dispo_alimentaire$Unité)), \"comme unité\"))\n",
    "print(paste(\"On a\",length(unique(dispo_alimentaire$Zone)), \"Pays\"))\n",
    "print(paste(\"On a\", sum(is.na(dispo_alimentaire_concat)), \"valeurs manquante\"))"
   ]
  },
  {
   "cell_type": "markdown",
   "id": "6b213539",
   "metadata": {},
   "source": [
    "<h3> Population </h3>"
   ]
  },
  {
   "cell_type": "code",
   "execution_count": 6,
   "id": "40ce3f6d",
   "metadata": {},
   "outputs": [
    {
     "data": {
      "text/plain": [
       " X.U.FEFF.Code.Domaine   Domaine            Code.zone         Zone          \n",
       " Length:4411           Length:4411        Min.   :  1.0   Length:4411       \n",
       " Class :character      Class :character   1st Qu.: 68.0   Class :character  \n",
       " Mode  :character      Mode  :character   Median :132.0   Mode  :character  \n",
       "                                          Mean   :132.2                     \n",
       "                                          3rd Qu.:195.0                     \n",
       "                                          Max.   :299.0                     \n",
       "  Code.Élément   Élément           Code.Produit    Produit         \n",
       " Min.   :511   Length:4411        Min.   :3010   Length:4411       \n",
       " 1st Qu.:511   Class :character   1st Qu.:3010   Class :character  \n",
       " Median :511   Mode  :character   Median :3010   Mode  :character  \n",
       " Mean   :511                      Mean   :3010                     \n",
       " 3rd Qu.:511                      3rd Qu.:3010                     \n",
       " Max.   :511                      Max.   :3010                     \n",
       "   Code.année       Année         Unité               Valeur         \n",
       " Min.   :2000   Min.   :2000   Length:4411        Min.   :      0.8  \n",
       " 1st Qu.:2004   1st Qu.:2004   Class :character   1st Qu.:    392.2  \n",
       " Median :2009   Median :2009   Mode  :character   Median :   4764.7  \n",
       " Mean   :2009   Mean   :2009                      Mean   :  29630.0  \n",
       " 3rd Qu.:2014   3rd Qu.:2014                      3rd Qu.:  18215.5  \n",
       " Max.   :2018   Max.   :2018                      Max.   :1427647.8  \n",
       "   Symbole          Description.du.Symbole     Note          \n",
       " Length:4411        Length:4411            Length:4411       \n",
       " Class :character   Class :character       Class :character  \n",
       " Mode  :character   Mode  :character       Mode  :character  \n",
       "                                                             \n",
       "                                                             \n",
       "                                                             "
      ]
     },
     "metadata": {},
     "output_type": "display_data"
    }
   ],
   "source": [
    "summary(population_2000_2018)"
   ]
  },
  {
   "cell_type": "code",
   "execution_count": 7,
   "id": "e6c75a6d",
   "metadata": {},
   "outputs": [
    {
     "data": {
      "text/html": [
       "<table class=\"dataframe\">\n",
       "<caption>A data.frame: 6 × 2</caption>\n",
       "<thead>\n",
       "\t<tr><th></th><th scope=col>Zone</th><th scope=col>Population</th></tr>\n",
       "\t<tr><th></th><th scope=col>&lt;chr&gt;</th><th scope=col>&lt;dbl&gt;</th></tr>\n",
       "</thead>\n",
       "<tbody>\n",
       "\t<tr><th scope=row>1</th><td>Afghanistan   </td><td>36296.113</td></tr>\n",
       "\t<tr><th scope=row>2</th><td>Afrique du Sud</td><td>57009.756</td></tr>\n",
       "\t<tr><th scope=row>3</th><td>Albanie       </td><td> 2884.169</td></tr>\n",
       "\t<tr><th scope=row>4</th><td>Algérie       </td><td>41389.189</td></tr>\n",
       "\t<tr><th scope=row>5</th><td>Allemagne     </td><td>82658.409</td></tr>\n",
       "\t<tr><th scope=row>6</th><td>Andorre       </td><td>   77.001</td></tr>\n",
       "</tbody>\n",
       "</table>\n"
      ],
      "text/latex": [
       "A data.frame: 6 × 2\n",
       "\\begin{tabular}{r|ll}\n",
       "  & Zone & Population\\\\\n",
       "  & <chr> & <dbl>\\\\\n",
       "\\hline\n",
       "\t1 & Afghanistan    & 36296.113\\\\\n",
       "\t2 & Afrique du Sud & 57009.756\\\\\n",
       "\t3 & Albanie        &  2884.169\\\\\n",
       "\t4 & Algérie        & 41389.189\\\\\n",
       "\t5 & Allemagne      & 82658.409\\\\\n",
       "\t6 & Andorre        &    77.001\\\\\n",
       "\\end{tabular}\n"
      ],
      "text/markdown": [
       "\n",
       "A data.frame: 6 × 2\n",
       "\n",
       "| <!--/--> | Zone &lt;chr&gt; | Population &lt;dbl&gt; |\n",
       "|---|---|---|\n",
       "| 1 | Afghanistan    | 36296.113 |\n",
       "| 2 | Afrique du Sud | 57009.756 |\n",
       "| 3 | Albanie        |  2884.169 |\n",
       "| 4 | Algérie        | 41389.189 |\n",
       "| 5 | Allemagne      | 82658.409 |\n",
       "| 6 | Andorre        |    77.001 |\n",
       "\n"
      ],
      "text/plain": [
       "  Zone           Population\n",
       "1 Afghanistan    36296.113 \n",
       "2 Afrique du Sud 57009.756 \n",
       "3 Albanie         2884.169 \n",
       "4 Algérie        41389.189 \n",
       "5 Allemagne      82658.409 \n",
       "6 Andorre           77.001 "
      ]
     },
     "metadata": {},
     "output_type": "display_data"
    }
   ],
   "source": [
    "# On filtre et renomme notre données poulation à l'année 2017\n",
    "pop_2017 = dplyr::filter(population_2000_2018, Année == 2017)\n",
    "pop_2017 = pop_2017[, c(4, 12)]\n",
    "colnames(pop_2017)[2] = \"Population\"\n",
    "head(pop_2017)"
   ]
  },
  {
   "cell_type": "code",
   "execution_count": 8,
   "id": "100f699c",
   "metadata": {},
   "outputs": [
    {
     "name": "stdout",
     "output_type": "stream",
     "text": [
      "[1] \"On a 236 Pays\"\n",
      "[1] \"On a 0 valeurs manquante\"\n"
     ]
    }
   ],
   "source": [
    "print(paste(\"On a\",length(unique(pop_2017$Zone)), \"Pays\"))\n",
    "print(paste(\"On a\", sum(is.na(pop_2017)), \"valeurs manquante\"))"
   ]
  },
  {
   "cell_type": "markdown",
   "id": "2d4cc348",
   "metadata": {},
   "source": [
    "<h3> Merge dataframe Population et Disponibilité Alimentaire </h3>"
   ]
  },
  {
   "cell_type": "code",
   "execution_count": 9,
   "id": "922bd4a8",
   "metadata": {},
   "outputs": [],
   "source": [
    "donnees_alimentaire = merge(pop_2017, dispo_alimentaire_concat, by = \"Zone\")"
   ]
  },
  {
   "cell_type": "code",
   "execution_count": 10,
   "id": "00e1369b",
   "metadata": {},
   "outputs": [
    {
     "name": "stderr",
     "output_type": "stream",
     "text": [
      "Warning message:\n",
      "\"package 'corrplot' was built under R version 4.1.3\"\n",
      "corrplot 0.92 loaded\n",
      "\n"
     ]
    },
    {
     "data": {
      "image/png": "[encoded data removed]",
      "text/plain": [
       "Plot with title \"\""
      ]
     },
     "metadata": {
      "image/png": {
       "height": 420,
       "width": 420
      }
     },
     "output_type": "display_data"
    }
   ],
   "source": [
    "library(\"corrplot\")\n",
    "corrplot(na.omit(donnees_alimentaire %>% select(!c(\"Zone\"))) %>% cor, type='upper')"
   ]
  },
  {
   "cell_type": "code",
   "execution_count": 11,
   "id": "d6c556af",
   "metadata": {},
   "outputs": [
    {
     "data": {
      "text/html": [
       "<table class=\"dataframe\">\n",
       "<caption>A matrix: 6 × 6 of type dbl</caption>\n",
       "<thead>\n",
       "\t<tr><th></th><th scope=col>Population</th><th scope=col>Production Viande de Volailles Milliers de tonnes</th><th scope=col>Importations - Quantité Viande de Volailles Milliers de tonnes</th><th scope=col>Variation de stock Viande de Volailles Milliers de tonnes</th><th scope=col>Disponibilité intérieure Viande de Volailles Milliers de tonnes</th><th scope=col>Exportations - Quantité Viande de Volailles Milliers de tonnes</th></tr>\n",
       "</thead>\n",
       "<tbody>\n",
       "\t<tr><th scope=row>Population</th><td> 1.00000000</td><td>0.61788500</td><td>0.1410408</td><td>-0.09045308</td><td>0.67612062</td><td>0.20176215</td></tr>\n",
       "\t<tr><th scope=row>Production Viande de Volailles Milliers de tonnes</th><td> 0.61788500</td><td>1.00000000</td><td>0.1746721</td><td> 0.05656381</td><td>0.98789585</td><td>0.77477356</td></tr>\n",
       "\t<tr><th scope=row>Importations - Quantité Viande de Volailles Milliers de tonnes</th><td> 0.14104078</td><td>0.17467207</td><td>1.0000000</td><td> 0.29682719</td><td>0.24270482</td><td>0.14196667</td></tr>\n",
       "\t<tr><th scope=row>Variation de stock Viande de Volailles Milliers de tonnes</th><td>-0.09045308</td><td>0.05656381</td><td>0.2968272</td><td> 1.00000000</td><td>0.04480511</td><td>0.04709063</td></tr>\n",
       "\t<tr><th scope=row>Disponibilité intérieure Viande de Volailles Milliers de tonnes</th><td> 0.67612062</td><td>0.98789585</td><td>0.2427048</td><td> 0.04480511</td><td>1.00000000</td><td>0.68130701</td></tr>\n",
       "\t<tr><th scope=row>Exportations - Quantité Viande de Volailles Milliers de tonnes</th><td> 0.20176215</td><td>0.77477356</td><td>0.1419667</td><td> 0.04709063</td><td>0.68130701</td><td>1.00000000</td></tr>\n",
       "</tbody>\n",
       "</table>\n"
      ],
      "text/latex": [
       "A matrix: 6 × 6 of type dbl\n",
       "\\begin{tabular}{r|llllll}\n",
       "  & Population & Production Viande de Volailles Milliers de tonnes & Importations - Quantité Viande de Volailles Milliers de tonnes & Variation de stock Viande de Volailles Milliers de tonnes & Disponibilité intérieure Viande de Volailles Milliers de tonnes & Exportations - Quantité Viande de Volailles Milliers de tonnes\\\\\n",
       "\\hline\n",
       "\tPopulation &  1.00000000 & 0.61788500 & 0.1410408 & -0.09045308 & 0.67612062 & 0.20176215\\\\\n",
       "\tProduction Viande de Volailles Milliers de tonnes &  0.61788500 & 1.00000000 & 0.1746721 &  0.05656381 & 0.98789585 & 0.77477356\\\\\n",
       "\tImportations - Quantité Viande de Volailles Milliers de tonnes &  0.14104078 & 0.17467207 & 1.0000000 &  0.29682719 & 0.24270482 & 0.14196667\\\\\n",
       "\tVariation de stock Viande de Volailles Milliers de tonnes & -0.09045308 & 0.05656381 & 0.2968272 &  1.00000000 & 0.04480511 & 0.04709063\\\\\n",
       "\tDisponibilité intérieure Viande de Volailles Milliers de tonnes &  0.67612062 & 0.98789585 & 0.2427048 &  0.04480511 & 1.00000000 & 0.68130701\\\\\n",
       "\tExportations - Quantité Viande de Volailles Milliers de tonnes &  0.20176215 & 0.77477356 & 0.1419667 &  0.04709063 & 0.68130701 & 1.00000000\\\\\n",
       "\\end{tabular}\n"
      ],
      "text/markdown": [
       "\n",
       "A matrix: 6 × 6 of type dbl\n",
       "\n",
       "| <!--/--> | Population | Production Viande de Volailles Milliers de tonnes | Importations - Quantité Viande de Volailles Milliers de tonnes | Variation de stock Viande de Volailles Milliers de tonnes | Disponibilité intérieure Viande de Volailles Milliers de tonnes | Exportations - Quantité Viande de Volailles Milliers de tonnes |\n",
       "|---|---|---|---|---|---|---|\n",
       "| Population |  1.00000000 | 0.61788500 | 0.1410408 | -0.09045308 | 0.67612062 | 0.20176215 |\n",
       "| Production Viande de Volailles Milliers de tonnes |  0.61788500 | 1.00000000 | 0.1746721 |  0.05656381 | 0.98789585 | 0.77477356 |\n",
       "| Importations - Quantité Viande de Volailles Milliers de tonnes |  0.14104078 | 0.17467207 | 1.0000000 |  0.29682719 | 0.24270482 | 0.14196667 |\n",
       "| Variation de stock Viande de Volailles Milliers de tonnes | -0.09045308 | 0.05656381 | 0.2968272 |  1.00000000 | 0.04480511 | 0.04709063 |\n",
       "| Disponibilité intérieure Viande de Volailles Milliers de tonnes |  0.67612062 | 0.98789585 | 0.2427048 |  0.04480511 | 1.00000000 | 0.68130701 |\n",
       "| Exportations - Quantité Viande de Volailles Milliers de tonnes |  0.20176215 | 0.77477356 | 0.1419667 |  0.04709063 | 0.68130701 | 1.00000000 |\n",
       "\n"
      ],
      "text/plain": [
       "                                                                Population \n",
       "Population                                                       1.00000000\n",
       "Production Viande de Volailles Milliers de tonnes                0.61788500\n",
       "Importations - Quantité Viande de Volailles Milliers de tonnes   0.14104078\n",
       "Variation de stock Viande de Volailles Milliers de tonnes       -0.09045308\n",
       "Disponibilité intérieure Viande de Volailles Milliers de tonnes  0.67612062\n",
       "Exportations - Quantité Viande de Volailles Milliers de tonnes   0.20176215\n",
       "                                                                Production Viande de Volailles Milliers de tonnes\n",
       "Population                                                      0.61788500                                       \n",
       "Production Viande de Volailles Milliers de tonnes               1.00000000                                       \n",
       "Importations - Quantité Viande de Volailles Milliers de tonnes  0.17467207                                       \n",
       "Variation de stock Viande de Volailles Milliers de tonnes       0.05656381                                       \n",
       "Disponibilité intérieure Viande de Volailles Milliers de tonnes 0.98789585                                       \n",
       "Exportations - Quantité Viande de Volailles Milliers de tonnes  0.77477356                                       \n",
       "                                                                Importations - Quantité Viande de Volailles Milliers de tonnes\n",
       "Population                                                      0.1410408                                                     \n",
       "Production Viande de Volailles Milliers de tonnes               0.1746721                                                     \n",
       "Importations - Quantité Viande de Volailles Milliers de tonnes  1.0000000                                                     \n",
       "Variation de stock Viande de Volailles Milliers de tonnes       0.2968272                                                     \n",
       "Disponibilité intérieure Viande de Volailles Milliers de tonnes 0.2427048                                                     \n",
       "Exportations - Quantité Viande de Volailles Milliers de tonnes  0.1419667                                                     \n",
       "                                                                Variation de stock Viande de Volailles Milliers de tonnes\n",
       "Population                                                      -0.09045308                                              \n",
       "Production Viande de Volailles Milliers de tonnes                0.05656381                                              \n",
       "Importations - Quantité Viande de Volailles Milliers de tonnes   0.29682719                                              \n",
       "Variation de stock Viande de Volailles Milliers de tonnes        1.00000000                                              \n",
       "Disponibilité intérieure Viande de Volailles Milliers de tonnes  0.04480511                                              \n",
       "Exportations - Quantité Viande de Volailles Milliers de tonnes   0.04709063                                              \n",
       "                                                                Disponibilité intérieure Viande de Volailles Milliers de tonnes\n",
       "Population                                                      0.67612062                                                     \n",
       "Production Viande de Volailles Milliers de tonnes               0.98789585                                                     \n",
       "Importations - Quantité Viande de Volailles Milliers de tonnes  0.24270482                                                     \n",
       "Variation de stock Viande de Volailles Milliers de tonnes       0.04480511                                                     \n",
       "Disponibilité intérieure Viande de Volailles Milliers de tonnes 1.00000000                                                     \n",
       "Exportations - Quantité Viande de Volailles Milliers de tonnes  0.68130701                                                     \n",
       "                                                                Exportations - Quantité Viande de Volailles Milliers de tonnes\n",
       "Population                                                      0.20176215                                                    \n",
       "Production Viande de Volailles Milliers de tonnes               0.77477356                                                    \n",
       "Importations - Quantité Viande de Volailles Milliers de tonnes  0.14196667                                                    \n",
       "Variation de stock Viande de Volailles Milliers de tonnes       0.04709063                                                    \n",
       "Disponibilité intérieure Viande de Volailles Milliers de tonnes 0.68130701                                                    \n",
       "Exportations - Quantité Viande de Volailles Milliers de tonnes  1.00000000                                                    "
      ]
     },
     "metadata": {},
     "output_type": "display_data"
    }
   ],
   "source": [
    "cor((na.omit(donnees_alimentaire %>% select(!c(\"Zone\")))))"
   ]
  },
  {
   "cell_type": "markdown",
   "id": "655f6778",
   "metadata": {},
   "source": [
    "Notre variable \"Disponibilité Intérieure\" est fortement corrélées avec notre variable \"Production\", on pourrait donc en choisir l'une des 2, dans ce cas la \"Production\""
   ]
  },
  {
   "cell_type": "code",
   "execution_count": 12,
   "id": "5cc8a805",
   "metadata": {},
   "outputs": [
    {
     "data": {
      "text/html": [
       "<table class=\"dataframe\">\n",
       "<caption>A data.frame: 6 × 6</caption>\n",
       "<thead>\n",
       "\t<tr><th></th><th scope=col>Zone</th><th scope=col>Population</th><th scope=col>Production Viande de Volailles Milliers de tonnes</th><th scope=col>Importations - Quantité Viande de Volailles Milliers de tonnes</th><th scope=col>Variation de stock Viande de Volailles Milliers de tonnes</th><th scope=col>Exportations - Quantité Viande de Volailles Milliers de tonnes</th></tr>\n",
       "\t<tr><th></th><th scope=col>&lt;chr&gt;</th><th scope=col>&lt;dbl&gt;</th><th scope=col>&lt;dbl&gt;</th><th scope=col>&lt;dbl&gt;</th><th scope=col>&lt;dbl&gt;</th><th scope=col>&lt;dbl&gt;</th></tr>\n",
       "</thead>\n",
       "<tbody>\n",
       "\t<tr><th scope=row>1</th><td>Afghanistan   </td><td>36296.113</td><td>  28</td><td> 29</td><td>  0</td><td>  0</td></tr>\n",
       "\t<tr><th scope=row>2</th><td>Afrique du Sud</td><td>57009.756</td><td>1667</td><td>514</td><td>  0</td><td> 63</td></tr>\n",
       "\t<tr><th scope=row>3</th><td>Albanie       </td><td> 2884.169</td><td>  13</td><td> 38</td><td>  4</td><td>  0</td></tr>\n",
       "\t<tr><th scope=row>4</th><td>Algérie       </td><td>41389.189</td><td> 275</td><td>  2</td><td>  0</td><td>  0</td></tr>\n",
       "\t<tr><th scope=row>5</th><td>Allemagne     </td><td>82658.409</td><td>1514</td><td>842</td><td>-29</td><td>646</td></tr>\n",
       "\t<tr><th scope=row>6</th><td>Angola        </td><td>29816.766</td><td>  42</td><td>277</td><td>  0</td><td>  0</td></tr>\n",
       "</tbody>\n",
       "</table>\n"
      ],
      "text/latex": [
       "A data.frame: 6 × 6\n",
       "\\begin{tabular}{r|llllll}\n",
       "  & Zone & Population & Production Viande de Volailles Milliers de tonnes & Importations - Quantité Viande de Volailles Milliers de tonnes & Variation de stock Viande de Volailles Milliers de tonnes & Exportations - Quantité Viande de Volailles Milliers de tonnes\\\\\n",
       "  & <chr> & <dbl> & <dbl> & <dbl> & <dbl> & <dbl>\\\\\n",
       "\\hline\n",
       "\t1 & Afghanistan    & 36296.113 &   28 &  29 &   0 &   0\\\\\n",
       "\t2 & Afrique du Sud & 57009.756 & 1667 & 514 &   0 &  63\\\\\n",
       "\t3 & Albanie        &  2884.169 &   13 &  38 &   4 &   0\\\\\n",
       "\t4 & Algérie        & 41389.189 &  275 &   2 &   0 &   0\\\\\n",
       "\t5 & Allemagne      & 82658.409 & 1514 & 842 & -29 & 646\\\\\n",
       "\t6 & Angola         & 29816.766 &   42 & 277 &   0 &   0\\\\\n",
       "\\end{tabular}\n"
      ],
      "text/markdown": [
       "\n",
       "A data.frame: 6 × 6\n",
       "\n",
       "| <!--/--> | Zone &lt;chr&gt; | Population &lt;dbl&gt; | Production Viande de Volailles Milliers de tonnes &lt;dbl&gt; | Importations - Quantité Viande de Volailles Milliers de tonnes &lt;dbl&gt; | Variation de stock Viande de Volailles Milliers de tonnes &lt;dbl&gt; | Exportations - Quantité Viande de Volailles Milliers de tonnes &lt;dbl&gt; |\n",
       "|---|---|---|---|---|---|---|\n",
       "| 1 | Afghanistan    | 36296.113 |   28 |  29 |   0 |   0 |\n",
       "| 2 | Afrique du Sud | 57009.756 | 1667 | 514 |   0 |  63 |\n",
       "| 3 | Albanie        |  2884.169 |   13 |  38 |   4 |   0 |\n",
       "| 4 | Algérie        | 41389.189 |  275 |   2 |   0 |   0 |\n",
       "| 5 | Allemagne      | 82658.409 | 1514 | 842 | -29 | 646 |\n",
       "| 6 | Angola         | 29816.766 |   42 | 277 |   0 |   0 |\n",
       "\n"
      ],
      "text/plain": [
       "  Zone           Population Production Viande de Volailles Milliers de tonnes\n",
       "1 Afghanistan    36296.113    28                                             \n",
       "2 Afrique du Sud 57009.756  1667                                             \n",
       "3 Albanie         2884.169    13                                             \n",
       "4 Algérie        41389.189   275                                             \n",
       "5 Allemagne      82658.409  1514                                             \n",
       "6 Angola         29816.766    42                                             \n",
       "  Importations - Quantité Viande de Volailles Milliers de tonnes\n",
       "1  29                                                           \n",
       "2 514                                                           \n",
       "3  38                                                           \n",
       "4   2                                                           \n",
       "5 842                                                           \n",
       "6 277                                                           \n",
       "  Variation de stock Viande de Volailles Milliers de tonnes\n",
       "1   0                                                      \n",
       "2   0                                                      \n",
       "3   4                                                      \n",
       "4   0                                                      \n",
       "5 -29                                                      \n",
       "6   0                                                      \n",
       "  Exportations - Quantité Viande de Volailles Milliers de tonnes\n",
       "1   0                                                           \n",
       "2  63                                                           \n",
       "3   0                                                           \n",
       "4   0                                                           \n",
       "5 646                                                           \n",
       "6   0                                                           "
      ]
     },
     "metadata": {},
     "output_type": "display_data"
    }
   ],
   "source": [
    "donnees_alimentaire[6] = list(NULL)\n",
    "# On change les valeurs NA à des valeurs nulles car elles concernent la colonne Exportatitions où l'on suppose un très faible niveau d'exportations quant au\n",
    "# volailes\n",
    "donnees_alimentaire[is.na(donnees_alimentaire)] = 0\n",
    "head(donnees_alimentaire)\n",
    "\n",
    "write.csv(donnees_alimentaire, file = \"~/OpenClassrooms/Projet 9/data/merged/donnees_alimentaire.csv\",\n",
    "    fileEncoding = \"UTF-8\", row.names = FALSE)"
   ]
  },
  {
   "cell_type": "code",
   "execution_count": 13,
   "id": "0c847ed8",
   "metadata": {},
   "outputs": [
    {
     "data": {
      "text/html": [
       "<style>\n",
       ".dl-inline {width: auto; margin:0; padding: 0}\n",
       ".dl-inline>dt, .dl-inline>dd {float: none; width: auto; display: inline-block}\n",
       ".dl-inline>dt::after {content: \":\\0020\"; padding-right: .5ex}\n",
       ".dl-inline>dt:not(:first-of-type) {padding-left: .5ex}\n",
       "</style><dl class=dl-inline><dt>Zone</dt><dd>0</dd><dt>Population</dt><dd>0</dd><dt>Production Viande de Volailles Milliers de tonnes</dt><dd>0</dd><dt>Importations - Quantité Viande de Volailles Milliers de tonnes</dt><dd>0</dd><dt>Variation de stock Viande de Volailles Milliers de tonnes</dt><dd>0</dd><dt>Exportations - Quantité Viande de Volailles Milliers de tonnes</dt><dd>0</dd></dl>\n"
      ],
      "text/latex": [
       "\\begin{description*}\n",
       "\\item[Zone] 0\n",
       "\\item[Population] 0\n",
       "\\item[Production Viande de Volailles Milliers de tonnes] 0\n",
       "\\item[Importations - Quantité Viande de Volailles Milliers de tonnes] 0\n",
       "\\item[Variation de stock Viande de Volailles Milliers de tonnes] 0\n",
       "\\item[Exportations - Quantité Viande de Volailles Milliers de tonnes] 0\n",
       "\\end{description*}\n"
      ],
      "text/markdown": [
       "Zone\n",
       ":   0Population\n",
       ":   0Production Viande de Volailles Milliers de tonnes\n",
       ":   0Importations - Quantité Viande de Volailles Milliers de tonnes\n",
       ":   0Variation de stock Viande de Volailles Milliers de tonnes\n",
       ":   0Exportations - Quantité Viande de Volailles Milliers de tonnes\n",
       ":   0\n",
       "\n"
      ],
      "text/plain": [
       "                                                          Zone \n",
       "                                                             0 \n",
       "                                                    Population \n",
       "                                                             0 \n",
       "             Production Viande de Volailles Milliers de tonnes \n",
       "                                                             0 \n",
       "Importations - Quantité Viande de Volailles Milliers de tonnes \n",
       "                                                             0 \n",
       "     Variation de stock Viande de Volailles Milliers de tonnes \n",
       "                                                             0 \n",
       "Exportations - Quantité Viande de Volailles Milliers de tonnes \n",
       "                                                             0 "
      ]
     },
     "metadata": {},
     "output_type": "display_data"
    },
    {
     "name": "stdout",
     "output_type": "stream",
     "text": [
      "[1] \"0 valeurs manquantes\"\n"
     ]
    }
   ],
   "source": [
    "colSums(is.na(donnees_alimentaire))\n",
    "print(paste(sum(is.na(donnees_alimentaire)), \"valeurs manquantes\"))"
   ]
  },
  {
   "cell_type": "code",
   "execution_count": 14,
   "id": "9b86783f",
   "metadata": {},
   "outputs": [
    {
     "name": "stderr",
     "output_type": "stream",
     "text": [
      "\u001b[1m\u001b[22mJoining, by = \"Zone\"\n"
     ]
    },
    {
     "name": "stdout",
     "output_type": "stream",
     "text": [
      "[1] \"66 Pays manquants des données\"\n"
     ]
    }
   ],
   "source": [
    "#On crée un fichier contenant les pays dont les disponibilité alimentaire ne sont pas fournies.\n",
    "pays_manquants = anti_join(pop_2017, dispo_alimentaire_concat)\n",
    "print(paste(length(pays_manquants$Zone), \"Pays manquants des données\"))"
   ]
  },
  {
   "cell_type": "markdown",
   "id": "ef748627",
   "metadata": {},
   "source": [
    "<h1> Ajout de données supplémentaire FAO </h1>"
   ]
  },
  {
   "cell_type": "markdown",
   "id": "0e01b5c9",
   "metadata": {},
   "source": [
    "Choix des données fait selon les critères PESTEL (Politique, Economie, Social, Technologie, Environement et Légal)"
   ]
  },
  {
   "cell_type": "markdown",
   "id": "7797ecdc",
   "metadata": {},
   "source": [
    "<h2> Prix Consommation </h2>"
   ]
  },
  {
   "cell_type": "code",
   "execution_count": 15,
   "id": "df26811b",
   "metadata": {},
   "outputs": [],
   "source": [
    "# Import des données sur les prix de consommation\n",
    "prix_conso = read.csv(\"~/OpenClassrooms/Projet 9/data/Prix/FAO_PrixConsommation_2017.csv\", \n",
    "    encoding = \"UTF-8\")"
   ]
  },
  {
   "cell_type": "code",
   "execution_count": 16,
   "id": "cf78b313",
   "metadata": {},
   "outputs": [
    {
     "data": {
      "text/plain": [
       " Code.Domaine         Domaine          Code.zone..FAO.     Zone          \n",
       " Length:4920        Length:4920        Min.   :  1     Length:4920       \n",
       " Class :character   Class :character   1st Qu.: 63     Class :character  \n",
       " Mode  :character   Mode  :character   Median :126     Mode  :character  \n",
       "                                       Mean   :129                       \n",
       "                                       3rd Qu.:192                       \n",
       "                                       Max.   :299                       \n",
       "   Code.année       Année       Code.Produit     Produit         \n",
       " Min.   :2017   Min.   :2017   Min.   :23012   Length:4920       \n",
       " 1st Qu.:2017   1st Qu.:2017   1st Qu.:23012   Class :character  \n",
       " Median :2017   Median :2017   Median :23013   Mode  :character  \n",
       " Mean   :2017   Mean   :2017   Mean   :23013                     \n",
       " 3rd Qu.:2017   3rd Qu.:2017   3rd Qu.:23014                     \n",
       " Max.   :2017   Max.   :2017   Max.   :23014                     \n",
       "   Code.Mois        Mois              Unité               Valeur        \n",
       " Min.   :7001   Length:4920        Length:4920        Min.   :  -9.009  \n",
       " 1st Qu.:7004   Class :character   Class :character   1st Qu.:   2.438  \n",
       " Median :7006   Mode  :character   Mode  :character   Median :  97.950  \n",
       " Mean   :7006                                         Mean   :  65.878  \n",
       " 3rd Qu.:7009                                         3rd Qu.: 103.414  \n",
       " Max.   :7012                                         Max.   :6122.955  \n",
       "   Symbole          Description.du.Symbole     Note          \n",
       " Length:4920        Length:4920            Length:4920       \n",
       " Class :character   Class :character       Class :character  \n",
       " Mode  :character   Mode  :character       Mode  :character  \n",
       "                                                             \n",
       "                                                             \n",
       "                                                             "
      ]
     },
     "metadata": {},
     "output_type": "display_data"
    }
   ],
   "source": [
    "summary(prix_conso)"
   ]
  },
  {
   "cell_type": "code",
   "execution_count": 17,
   "id": "2f6ae794",
   "metadata": {},
   "outputs": [
    {
     "name": "stderr",
     "output_type": "stream",
     "text": [
      "\u001b[1m\u001b[22m`summarise()` has grouped output by 'Zone'. You can override using the `.groups` argument.\n"
     ]
    },
    {
     "data": {
      "text/html": [
       "<table class=\"dataframe\">\n",
       "<caption>A grouped_df: 6 × 3</caption>\n",
       "<thead>\n",
       "\t<tr><th scope=col>Zone</th><th scope=col>Food price inflation %</th><th scope=col>Prix à la Consommation, Indices généraux (2015 = 100) </th></tr>\n",
       "\t<tr><th scope=col>&lt;chr&gt;</th><th scope=col>&lt;dbl&gt;</th><th scope=col>&lt;dbl&gt;</th></tr>\n",
       "</thead>\n",
       "<tbody>\n",
       "\t<tr><td>Afghanistan   </td><td>6.957529</td><td>109.5907</td></tr>\n",
       "\t<tr><td>Afrique du Sud</td><td>6.902629</td><td>112.0963</td></tr>\n",
       "\t<tr><td>Albanie       </td><td>3.924577</td><td>103.2957</td></tr>\n",
       "\t<tr><td>Algérie       </td><td>5.040496</td><td>112.3586</td></tr>\n",
       "\t<tr><td>Allemagne     </td><td>2.762497</td><td>102.0087</td></tr>\n",
       "\t<tr><td>Andorre       </td><td>2.877625</td><td>102.1478</td></tr>\n",
       "</tbody>\n",
       "</table>\n"
      ],
      "text/latex": [
       "A grouped\\_df: 6 × 3\n",
       "\\begin{tabular}{lll}\n",
       " Zone & Food price inflation \\% & Prix à la Consommation, Indices généraux (2015 = 100) \\\\\n",
       " <chr> & <dbl> & <dbl>\\\\\n",
       "\\hline\n",
       "\t Afghanistan    & 6.957529 & 109.5907\\\\\n",
       "\t Afrique du Sud & 6.902629 & 112.0963\\\\\n",
       "\t Albanie        & 3.924577 & 103.2957\\\\\n",
       "\t Algérie        & 5.040496 & 112.3586\\\\\n",
       "\t Allemagne      & 2.762497 & 102.0087\\\\\n",
       "\t Andorre        & 2.877625 & 102.1478\\\\\n",
       "\\end{tabular}\n"
      ],
      "text/markdown": [
       "\n",
       "A grouped_df: 6 × 3\n",
       "\n",
       "| Zone &lt;chr&gt; | Food price inflation % &lt;dbl&gt; | Prix à la Consommation, Indices généraux (2015 = 100)  &lt;dbl&gt; |\n",
       "|---|---|---|\n",
       "| Afghanistan    | 6.957529 | 109.5907 |\n",
       "| Afrique du Sud | 6.902629 | 112.0963 |\n",
       "| Albanie        | 3.924577 | 103.2957 |\n",
       "| Algérie        | 5.040496 | 112.3586 |\n",
       "| Allemagne      | 2.762497 | 102.0087 |\n",
       "| Andorre        | 2.877625 | 102.1478 |\n",
       "\n"
      ],
      "text/plain": [
       "  Zone           Food price inflation %\n",
       "1 Afghanistan    6.957529              \n",
       "2 Afrique du Sud 6.902629              \n",
       "3 Albanie        3.924577              \n",
       "4 Algérie        5.040496              \n",
       "5 Allemagne      2.762497              \n",
       "6 Andorre        2.877625              \n",
       "  Prix à la Consommation, Indices généraux (2015 = 100) \n",
       "1 109.5907                                              \n",
       "2 112.0963                                              \n",
       "3 103.2957                                              \n",
       "4 112.3586                                              \n",
       "5 102.0087                                              \n",
       "6 102.1478                                              "
      ]
     },
     "metadata": {},
     "output_type": "display_data"
    }
   ],
   "source": [
    "prix_conso['Prix_Consommation'] = paste(prix_conso$Produit, prix_conso$Unité)\n",
    "prix_conso_concat = prix_conso[,c('Zone','Prix_Consommation','Mois','Valeur')]\n",
    "prix_conso_concat = prix_conso_concat %>% group_by(Zone,Prix_Consommation) %>% summarise(avg=mean(Valeur))\n",
    "prix_conso_concat = prix_conso_concat %>% pivot_wider(names_from = Prix_Consommation, values_from = avg)\n",
    "head(prix_conso_concat)"
   ]
  },
  {
   "cell_type": "code",
   "execution_count": 18,
   "id": "ee4105de",
   "metadata": {},
   "outputs": [
    {
     "data": {
      "text/html": [
       "<style>\n",
       ".dl-inline {width: auto; margin:0; padding: 0}\n",
       ".dl-inline>dt, .dl-inline>dd {float: none; width: auto; display: inline-block}\n",
       ".dl-inline>dt::after {content: \":\\0020\"; padding-right: .5ex}\n",
       ".dl-inline>dt:not(:first-of-type) {padding-left: .5ex}\n",
       "</style><dl class=dl-inline><dt>Zone</dt><dd>0</dd><dt>Food price inflation %</dt><dd>0</dd><dt>Prix à la Consommation, Indices généraux (2015 = 100) </dt><dd>0</dd></dl>\n"
      ],
      "text/latex": [
       "\\begin{description*}\n",
       "\\item[Zone] 0\n",
       "\\item[Food price inflation \\textbackslash{}\\%] 0\n",
       "\\item[Prix à la Consommation, Indices généraux (2015 = 100) ] 0\n",
       "\\end{description*}\n"
      ],
      "text/markdown": [
       "Zone\n",
       ":   0Food price inflation %\n",
       ":   0Prix à la Consommation, Indices généraux (2015 = 100) \n",
       ":   0\n",
       "\n"
      ],
      "text/plain": [
       "                                                  Zone \n",
       "                                                     0 \n",
       "                                Food price inflation % \n",
       "                                                     0 \n",
       "Prix à la Consommation, Indices généraux (2015 = 100)  \n",
       "                                                     0 "
      ]
     },
     "metadata": {},
     "output_type": "display_data"
    }
   ],
   "source": [
    "colSums(is.na(prix_conso_concat))"
   ]
  },
  {
   "cell_type": "code",
   "execution_count": 19,
   "id": "7dac7bfa",
   "metadata": {},
   "outputs": [
    {
     "name": "stdout",
     "output_type": "stream",
     "text": [
      "[1] \"On a c(\\\"Food price inflation\\\", \\\"Prix à la Consommation, Indices généraux (2015 = 100)\\\") comme Produit unique\"\n",
      "[1] \"On a c(\\\"%\\\", \\\"\\\") comme unité\"\n",
      "[1] \"On a 205 Pays\"\n",
      "[1] \"On a 0 valeurs manquante\"\n"
     ]
    }
   ],
   "source": [
    "print(paste(\"On a\", list(unique(prix_conso$Produit)) ,\"comme Produit unique\"))\n",
    "print(paste(\"On a\", list(unique(prix_conso$Unité)), \"comme unité\"))\n",
    "print(paste(\"On a\",length(unique(prix_conso_concat$Zone)), \"Pays\"))\n",
    "print(paste(\"On a\", sum(is.na(prix_conso_concat)), \"valeurs manquante\"))"
   ]
  },
  {
   "cell_type": "markdown",
   "id": "be1337dd",
   "metadata": {},
   "source": [
    "<h2> Indicateurs Macro et Stabilité Politique </h2>"
   ]
  },
  {
   "cell_type": "code",
   "execution_count": 20,
   "id": "26ea4ec0",
   "metadata": {},
   "outputs": [],
   "source": [
    "#Importation de données d'indicateurs macro\n",
    "ind_macro = read.csv(\"~/OpenClassrooms/Projet 9/data/Indicateur/FAO_IndicateurMacro_2017.csv\", encoding=\"UTF-8\")\n",
    "stab_gdp = read.csv(\"~/OpenClassrooms/Projet 9/data/Indicateur/FAO_Indicateur_GDP_StabilitePolitique_2017.csv\", encoding=\"UTF-8\")"
   ]
  },
  {
   "cell_type": "markdown",
   "id": "144a370c",
   "metadata": {},
   "source": [
    "<h3> Indicateur Macro </h3>"
   ]
  },
  {
   "cell_type": "code",
   "execution_count": 21,
   "id": "74f37700",
   "metadata": {},
   "outputs": [
    {
     "data": {
      "text/plain": [
       " X.U.FEFF.Code.Domaine   Domaine          Code.zone..FAO.     Zone          \n",
       " Length:1114           Length:1114        Min.   :  1.0   Length:1114       \n",
       " Class :character      Class :character   1st Qu.: 67.0   Class :character  \n",
       " Mode  :character      Mode  :character   Median :130.0   Mode  :character  \n",
       "                                          Mean   :132.2                     \n",
       "                                          3rd Qu.:195.0                     \n",
       "                                          Max.   :351.0                     \n",
       "  Code.Élément    Élément           Code.Produit     Produit         \n",
       " Min.   :6110   Length:1114        Min.   :22008   Length:1114       \n",
       " 1st Qu.:6110   Class :character   1st Qu.:22008   Class :character  \n",
       " Median :6120   Mode  :character   Median :22010   Mode  :character  \n",
       " Mean   :6120                      Mean   :22017                     \n",
       " 3rd Qu.:6129                      3rd Qu.:22011                     \n",
       " Max.   :6129                      Max.   :22073                     \n",
       "   Code.année       Année         Unité               Valeur        \n",
       " Min.   :2017   Min.   :2017   Length:1114        Min.   :     -32  \n",
       " 1st Qu.:2017   1st Qu.:2017   Class :character   1st Qu.:       7  \n",
       " Median :2017   Median :2017   Mode  :character   Median :      32  \n",
       " Mean   :2017   Mean   :2017                      Mean   :  170450  \n",
       " 3rd Qu.:2017   3rd Qu.:2017                      3rd Qu.:   16106  \n",
       " Max.   :2017   Max.   :2017                      Max.   :19893073  \n",
       "   Symbole          Description.du.Symbole   Note        \n",
       " Length:1114        Length:1114            Mode:logical  \n",
       " Class :character   Class :character       NA's:1114     \n",
       " Mode  :character   Mode  :character                     \n",
       "                                                         \n",
       "                                                         \n",
       "                                                         "
      ]
     },
     "metadata": {},
     "output_type": "display_data"
    }
   ],
   "source": [
    "summary(ind_macro)"
   ]
  },
  {
   "cell_type": "code",
   "execution_count": 22,
   "id": "7083a1ca",
   "metadata": {},
   "outputs": [
    {
     "data": {
      "text/html": [
       "<table class=\"dataframe\">\n",
       "<caption>A tibble: 6 × 9</caption>\n",
       "<thead>\n",
       "\t<tr><th scope=col>Zone</th><th scope=col>Valeur US $ Produit Intérieur Brut millions</th><th scope=col>Croissance annuelle US$ Produit Intérieur Brut %</th><th scope=col>Valeur US $ Revenu national brut millions</th><th scope=col>Croissance annuelle US$ Revenu national brut %</th><th scope=col>Valeur US $ Valeur ajoutée (Agriculture) millions</th><th scope=col>Croissance annuelle US$ Valeur ajoutée (Agriculture) %</th><th scope=col>Valeur US $ Production brute (Agriculture) millions</th><th scope=col>Croissance annuelle US$ Production brute (Agriculture) %</th></tr>\n",
       "\t<tr><th scope=col>&lt;chr&gt;</th><th scope=col>&lt;dbl&gt;</th><th scope=col>&lt;dbl&gt;</th><th scope=col>&lt;dbl&gt;</th><th scope=col>&lt;dbl&gt;</th><th scope=col>&lt;dbl&gt;</th><th scope=col>&lt;dbl&gt;</th><th scope=col>&lt;dbl&gt;</th><th scope=col>&lt;dbl&gt;</th></tr>\n",
       "</thead>\n",
       "<tbody>\n",
       "\t<tr><td>Afghanistan   </td><td>  18896.35</td><td> 4.865790</td><td>  19145.02</td><td> 5.197452</td><td>     NA</td><td>      NA</td><td>      NA</td><td>      NA</td></tr>\n",
       "\t<tr><td>Afrique du Sud</td><td> 349006.69</td><td>17.771989</td><td> 338539.75</td><td>17.486899</td><td>     NA</td><td>      NA</td><td>      NA</td><td>      NA</td></tr>\n",
       "\t<tr><td>Albanie       </td><td>  13019.73</td><td> 9.765944</td><td>  13051.52</td><td> 8.275484</td><td>     NA</td><td>      NA</td><td>      NA</td><td>      NA</td></tr>\n",
       "\t<tr><td>Algérie       </td><td> 170096.98</td><td> 6.287889</td><td> 167910.13</td><td> 5.693699</td><td>     NA</td><td>      NA</td><td>      NA</td><td>      NA</td></tr>\n",
       "\t<tr><td>Allemagne     </td><td>3690849.15</td><td> 6.441277</td><td>3778789.18</td><td> 6.339421</td><td>26136.3</td><td>30.77339</td><td>60237.99</td><td>13.14383</td></tr>\n",
       "\t<tr><td>Andorre       </td><td>   3000.16</td><td> 3.645145</td><td>   3000.16</td><td> 3.645145</td><td>     NA</td><td>      NA</td><td>      NA</td><td>      NA</td></tr>\n",
       "</tbody>\n",
       "</table>\n"
      ],
      "text/latex": [
       "A tibble: 6 × 9\n",
       "\\begin{tabular}{lllllllll}\n",
       " Zone & Valeur US \\$ Produit Intérieur Brut millions & Croissance annuelle US\\$ Produit Intérieur Brut \\% & Valeur US \\$ Revenu national brut millions & Croissance annuelle US\\$ Revenu national brut \\% & Valeur US \\$ Valeur ajoutée (Agriculture) millions & Croissance annuelle US\\$ Valeur ajoutée (Agriculture) \\% & Valeur US \\$ Production brute (Agriculture) millions & Croissance annuelle US\\$ Production brute (Agriculture) \\%\\\\\n",
       " <chr> & <dbl> & <dbl> & <dbl> & <dbl> & <dbl> & <dbl> & <dbl> & <dbl>\\\\\n",
       "\\hline\n",
       "\t Afghanistan    &   18896.35 &  4.865790 &   19145.02 &  5.197452 &      NA &       NA &       NA &       NA\\\\\n",
       "\t Afrique du Sud &  349006.69 & 17.771989 &  338539.75 & 17.486899 &      NA &       NA &       NA &       NA\\\\\n",
       "\t Albanie        &   13019.73 &  9.765944 &   13051.52 &  8.275484 &      NA &       NA &       NA &       NA\\\\\n",
       "\t Algérie        &  170096.98 &  6.287889 &  167910.13 &  5.693699 &      NA &       NA &       NA &       NA\\\\\n",
       "\t Allemagne      & 3690849.15 &  6.441277 & 3778789.18 &  6.339421 & 26136.3 & 30.77339 & 60237.99 & 13.14383\\\\\n",
       "\t Andorre        &    3000.16 &  3.645145 &    3000.16 &  3.645145 &      NA &       NA &       NA &       NA\\\\\n",
       "\\end{tabular}\n"
      ],
      "text/markdown": [
       "\n",
       "A tibble: 6 × 9\n",
       "\n",
       "| Zone &lt;chr&gt; | Valeur US $ Produit Intérieur Brut millions &lt;dbl&gt; | Croissance annuelle US$ Produit Intérieur Brut % &lt;dbl&gt; | Valeur US $ Revenu national brut millions &lt;dbl&gt; | Croissance annuelle US$ Revenu national brut % &lt;dbl&gt; | Valeur US $ Valeur ajoutée (Agriculture) millions &lt;dbl&gt; | Croissance annuelle US$ Valeur ajoutée (Agriculture) % &lt;dbl&gt; | Valeur US $ Production brute (Agriculture) millions &lt;dbl&gt; | Croissance annuelle US$ Production brute (Agriculture) % &lt;dbl&gt; |\n",
       "|---|---|---|---|---|---|---|---|---|\n",
       "| Afghanistan    |   18896.35 |  4.865790 |   19145.02 |  5.197452 |      NA |       NA |       NA |       NA |\n",
       "| Afrique du Sud |  349006.69 | 17.771989 |  338539.75 | 17.486899 |      NA |       NA |       NA |       NA |\n",
       "| Albanie        |   13019.73 |  9.765944 |   13051.52 |  8.275484 |      NA |       NA |       NA |       NA |\n",
       "| Algérie        |  170096.98 |  6.287889 |  167910.13 |  5.693699 |      NA |       NA |       NA |       NA |\n",
       "| Allemagne      | 3690849.15 |  6.441277 | 3778789.18 |  6.339421 | 26136.3 | 30.77339 | 60237.99 | 13.14383 |\n",
       "| Andorre        |    3000.16 |  3.645145 |    3000.16 |  3.645145 |      NA |       NA |       NA |       NA |\n",
       "\n"
      ],
      "text/plain": [
       "  Zone           Valeur US $ Produit Intérieur Brut millions\n",
       "1 Afghanistan      18896.35                                 \n",
       "2 Afrique du Sud  349006.69                                 \n",
       "3 Albanie          13019.73                                 \n",
       "4 Algérie         170096.98                                 \n",
       "5 Allemagne      3690849.15                                 \n",
       "6 Andorre           3000.16                                 \n",
       "  Croissance annuelle US$ Produit Intérieur Brut %\n",
       "1  4.865790                                       \n",
       "2 17.771989                                       \n",
       "3  9.765944                                       \n",
       "4  6.287889                                       \n",
       "5  6.441277                                       \n",
       "6  3.645145                                       \n",
       "  Valeur US $ Revenu national brut millions\n",
       "1   19145.02                               \n",
       "2  338539.75                               \n",
       "3   13051.52                               \n",
       "4  167910.13                               \n",
       "5 3778789.18                               \n",
       "6    3000.16                               \n",
       "  Croissance annuelle US$ Revenu national brut %\n",
       "1  5.197452                                     \n",
       "2 17.486899                                     \n",
       "3  8.275484                                     \n",
       "4  5.693699                                     \n",
       "5  6.339421                                     \n",
       "6  3.645145                                     \n",
       "  Valeur US $ Valeur ajoutée (Agriculture) millions\n",
       "1      NA                                          \n",
       "2      NA                                          \n",
       "3      NA                                          \n",
       "4      NA                                          \n",
       "5 26136.3                                          \n",
       "6      NA                                          \n",
       "  Croissance annuelle US$ Valeur ajoutée (Agriculture) %\n",
       "1       NA                                              \n",
       "2       NA                                              \n",
       "3       NA                                              \n",
       "4       NA                                              \n",
       "5 30.77339                                              \n",
       "6       NA                                              \n",
       "  Valeur US $ Production brute (Agriculture) millions\n",
       "1       NA                                           \n",
       "2       NA                                           \n",
       "3       NA                                           \n",
       "4       NA                                           \n",
       "5 60237.99                                           \n",
       "6       NA                                           \n",
       "  Croissance annuelle US$ Production brute (Agriculture) %\n",
       "1       NA                                                \n",
       "2       NA                                                \n",
       "3       NA                                                \n",
       "4       NA                                                \n",
       "5 13.14383                                                \n",
       "6       NA                                                "
      ]
     },
     "metadata": {},
     "output_type": "display_data"
    }
   ],
   "source": [
    "ind_macro['Ind_Produit'] = paste(ind_macro$Élément, ind_macro$Produit)\n",
    "ind_macro['Ind_Produit'] = paste(ind_macro$Ind_Produit, ind_macro$Unité)\n",
    "ind_macro_concat = ind_macro[,c('Zone', 'Ind_Produit', 'Valeur')]\n",
    "ind_macro_concat = ind_macro_concat %>% pivot_wider(names_from = Ind_Produit, values_from = Valeur)\n",
    "head(ind_macro_concat)"
   ]
  },
  {
   "cell_type": "code",
   "execution_count": 23,
   "id": "d01777da",
   "metadata": {},
   "outputs": [
    {
     "name": "stdout",
     "output_type": "stream",
     "text": [
      "[1] \"On a c(\\\"Produit Intérieur Brut\\\", \\\"Revenu national brut\\\", \\\"Valeur ajoutée (Agriculture)\\\", \\\"Production brute (Agriculture)\\\") comme Produit unique\"\n",
      "[1] \"On a c(\\\"millions\\\", \\\"%\\\") comme unité\"\n",
      "[1] \"On a 211 Pays\"\n",
      "[1] \"On a 574 valeurs manquante\"\n"
     ]
    }
   ],
   "source": [
    "print(paste(\"On a\", list(unique(ind_macro$Produit)) ,\"comme Produit unique\"))\n",
    "print(paste(\"On a\", list(unique(ind_macro$Unité)), \"comme unité\"))\n",
    "print(paste(\"On a\", length(unique(ind_macro_concat$Zone)), \"Pays\"))\n",
    "print(paste(\"On a\", sum(is.na(ind_macro_concat)), \"valeurs manquante\"))"
   ]
  },
  {
   "cell_type": "code",
   "execution_count": 24,
   "id": "d600c7ed",
   "metadata": {},
   "outputs": [
    {
     "data": {
      "text/html": [
       "<style>\n",
       ".dl-inline {width: auto; margin:0; padding: 0}\n",
       ".dl-inline>dt, .dl-inline>dd {float: none; width: auto; display: inline-block}\n",
       ".dl-inline>dt::after {content: \":\\0020\"; padding-right: .5ex}\n",
       ".dl-inline>dt:not(:first-of-type) {padding-left: .5ex}\n",
       "</style><dl class=dl-inline><dt>Zone</dt><dd>0</dd><dt>Valeur US $ Produit Intérieur Brut millions</dt><dd>0</dd><dt>Croissance annuelle US$ Produit Intérieur Brut %</dt><dd>0</dd><dt>Valeur US $ Revenu national brut millions</dt><dd>0</dd><dt>Croissance annuelle US$ Revenu national brut %</dt><dd>0</dd><dt>Valeur US $ Valeur ajoutée (Agriculture) millions</dt><dd>142</dd><dt>Croissance annuelle US$ Valeur ajoutée (Agriculture) %</dt><dd>142</dd><dt>Valeur US $ Production brute (Agriculture) millions</dt><dd>145</dd><dt>Croissance annuelle US$ Production brute (Agriculture) %</dt><dd>145</dd></dl>\n"
      ],
      "text/latex": [
       "\\begin{description*}\n",
       "\\item[Zone] 0\n",
       "\\item[Valeur US \\textbackslash{}\\$ Produit Intérieur Brut millions] 0\n",
       "\\item[Croissance annuelle US\\textbackslash{}\\$ Produit Intérieur Brut \\textbackslash{}\\%] 0\n",
       "\\item[Valeur US \\textbackslash{}\\$ Revenu national brut millions] 0\n",
       "\\item[Croissance annuelle US\\textbackslash{}\\$ Revenu national brut \\textbackslash{}\\%] 0\n",
       "\\item[Valeur US \\textbackslash{}\\$ Valeur ajoutée (Agriculture) millions] 142\n",
       "\\item[Croissance annuelle US\\textbackslash{}\\$ Valeur ajoutée (Agriculture) \\textbackslash{}\\%] 142\n",
       "\\item[Valeur US \\textbackslash{}\\$ Production brute (Agriculture) millions] 145\n",
       "\\item[Croissance annuelle US\\textbackslash{}\\$ Production brute (Agriculture) \\textbackslash{}\\%] 145\n",
       "\\end{description*}\n"
      ],
      "text/markdown": [
       "Zone\n",
       ":   0Valeur US $ Produit Intérieur Brut millions\n",
       ":   0Croissance annuelle US$ Produit Intérieur Brut %\n",
       ":   0Valeur US $ Revenu national brut millions\n",
       ":   0Croissance annuelle US$ Revenu national brut %\n",
       ":   0Valeur US $ Valeur ajoutée (Agriculture) millions\n",
       ":   142Croissance annuelle US$ Valeur ajoutée (Agriculture) %\n",
       ":   142Valeur US $ Production brute (Agriculture) millions\n",
       ":   145Croissance annuelle US$ Production brute (Agriculture) %\n",
       ":   145\n",
       "\n"
      ],
      "text/plain": [
       "                                                    Zone \n",
       "                                                       0 \n",
       "             Valeur US $ Produit Intérieur Brut millions \n",
       "                                                       0 \n",
       "        Croissance annuelle US$ Produit Intérieur Brut % \n",
       "                                                       0 \n",
       "               Valeur US $ Revenu national brut millions \n",
       "                                                       0 \n",
       "          Croissance annuelle US$ Revenu national brut % \n",
       "                                                       0 \n",
       "       Valeur US $ Valeur ajoutée (Agriculture) millions \n",
       "                                                     142 \n",
       "  Croissance annuelle US$ Valeur ajoutée (Agriculture) % \n",
       "                                                     142 \n",
       "     Valeur US $ Production brute (Agriculture) millions \n",
       "                                                     145 \n",
       "Croissance annuelle US$ Production brute (Agriculture) % \n",
       "                                                     145 "
      ]
     },
     "metadata": {},
     "output_type": "display_data"
    }
   ],
   "source": [
    "colSums(is.na(ind_macro_concat))"
   ]
  },
  {
   "cell_type": "code",
   "execution_count": 25,
   "id": "e8b673ec",
   "metadata": {},
   "outputs": [],
   "source": [
    "# Pour garder le plus de pays possible on va supprimer la variable concernant l'agriculture.\n",
    "ind_macro_concat[6:9] = list(NULL)"
   ]
  },
  {
   "cell_type": "markdown",
   "id": "7a97e62b",
   "metadata": {},
   "source": [
    "<h3> Stabilité Politique </h3>"
   ]
  },
  {
   "cell_type": "code",
   "execution_count": 26,
   "id": "251d4895",
   "metadata": {},
   "outputs": [
    {
     "data": {
      "text/plain": [
       " Code.Domaine         Domaine          Code.zone..FAO.     Zone          \n",
       " Length:612         Length:612         Min.   :  1.0   Length:612        \n",
       " Class :character   Class :character   1st Qu.: 84.0   Class :character  \n",
       " Mode  :character   Mode  :character   Median :167.0   Mode  :character  \n",
       "                                       Mean   :227.9                     \n",
       "                                       3rd Qu.:256.0                     \n",
       "                                       Max.   :894.0                     \n",
       "                                                                         \n",
       "  Code.Élément    Élément           Code.Produit     Produit         \n",
       " Min.   :6121   Length:612         Min.   :21032   Length:612        \n",
       " 1st Qu.:6121   Class :character   1st Qu.:21032   Class :character  \n",
       " Median :6125   Mode  :character   Median :21033   Mode  :character  \n",
       " Mean   :6124                      Mean   :21359                     \n",
       " 3rd Qu.:6126                      3rd Qu.:22013                     \n",
       " Max.   :6126                      Max.   :22013                     \n",
       "                                                                     \n",
       "   Code.année       Année         Unité               Valeur         \n",
       " Min.   :2017   Min.   :2017   Length:612         Min.   :    -2.94  \n",
       " 1st Qu.:2017   1st Qu.:2017   Class :character   1st Qu.:     0.66  \n",
       " Median :2017   Median :2017   Mode  :character   Median :    13.00  \n",
       " Mean   :2017   Mean   :2017                      Mean   :  6591.47  \n",
       " 3rd Qu.:2017   3rd Qu.:2017                      3rd Qu.:  3862.00  \n",
       " Max.   :2017   Max.   :2017                      Max.   :126144.00  \n",
       "                                                  NA's   :17         \n",
       "   Symbole          Description.du.Symbole   Note        \n",
       " Length:612         Length:612             Mode:logical  \n",
       " Class :character   Class :character       NA's:612      \n",
       " Mode  :character   Mode  :character                     \n",
       "                                                         \n",
       "                                                         \n",
       "                                                         \n",
       "                                                         "
      ]
     },
     "metadata": {},
     "output_type": "display_data"
    }
   ],
   "source": [
    "summary(stab_gdp)"
   ]
  },
  {
   "cell_type": "code",
   "execution_count": 27,
   "id": "3ddd07e8",
   "metadata": {},
   "outputs": [
    {
     "data": {
      "text/html": [
       "<table class=\"dataframe\">\n",
       "<caption>A tibble: 6 × 4</caption>\n",
       "<thead>\n",
       "\t<tr><th scope=col>Zone</th><th scope=col>PIB par habitant, ($ PPA internationaux constants de 2017)</th><th scope=col>Stabilité politique et absence de violence/terrorisme (indice)</th><th scope=col>Valeur des importations alimentaires par rapport aux exportations totales de marchandises (%) (moyenne sur 3 ans)</th></tr>\n",
       "\t<tr><th scope=col>&lt;chr&gt;</th><th scope=col>&lt;dbl&gt;</th><th scope=col>&lt;dbl&gt;</th><th scope=col>&lt;dbl&gt;</th></tr>\n",
       "</thead>\n",
       "<tbody>\n",
       "\t<tr><td>Afghanistan   </td><td> 2058.4</td><td>-2.80</td><td>363</td></tr>\n",
       "\t<tr><td>Afrique du Sud</td><td>13860.3</td><td>-0.28</td><td>  6</td></tr>\n",
       "\t<tr><td>Albanie       </td><td>12771.0</td><td> 0.38</td><td> 21</td></tr>\n",
       "\t<tr><td>Algérie       </td><td>11737.4</td><td>-0.92</td><td> 23</td></tr>\n",
       "\t<tr><td>Allemagne     </td><td>53071.5</td><td> 0.59</td><td>  5</td></tr>\n",
       "\t<tr><td>Andorre       </td><td>     NA</td><td> 1.42</td><td>  3</td></tr>\n",
       "</tbody>\n",
       "</table>\n"
      ],
      "text/latex": [
       "A tibble: 6 × 4\n",
       "\\begin{tabular}{llll}\n",
       " Zone & PIB par habitant, (\\$ PPA internationaux constants de 2017) & Stabilité politique et absence de violence/terrorisme (indice) & Valeur des importations alimentaires par rapport aux exportations totales de marchandises (\\%) (moyenne sur 3 ans)\\\\\n",
       " <chr> & <dbl> & <dbl> & <dbl>\\\\\n",
       "\\hline\n",
       "\t Afghanistan    &  2058.4 & -2.80 & 363\\\\\n",
       "\t Afrique du Sud & 13860.3 & -0.28 &   6\\\\\n",
       "\t Albanie        & 12771.0 &  0.38 &  21\\\\\n",
       "\t Algérie        & 11737.4 & -0.92 &  23\\\\\n",
       "\t Allemagne      & 53071.5 &  0.59 &   5\\\\\n",
       "\t Andorre        &      NA &  1.42 &   3\\\\\n",
       "\\end{tabular}\n"
      ],
      "text/markdown": [
       "\n",
       "A tibble: 6 × 4\n",
       "\n",
       "| Zone &lt;chr&gt; | PIB par habitant, ($ PPA internationaux constants de 2017) &lt;dbl&gt; | Stabilité politique et absence de violence/terrorisme (indice) &lt;dbl&gt; | Valeur des importations alimentaires par rapport aux exportations totales de marchandises (%) (moyenne sur 3 ans) &lt;dbl&gt; |\n",
       "|---|---|---|---|\n",
       "| Afghanistan    |  2058.4 | -2.80 | 363 |\n",
       "| Afrique du Sud | 13860.3 | -0.28 |   6 |\n",
       "| Albanie        | 12771.0 |  0.38 |  21 |\n",
       "| Algérie        | 11737.4 | -0.92 |  23 |\n",
       "| Allemagne      | 53071.5 |  0.59 |   5 |\n",
       "| Andorre        |      NA |  1.42 |   3 |\n",
       "\n"
      ],
      "text/plain": [
       "  Zone           PIB par habitant, ($ PPA internationaux constants de 2017)\n",
       "1 Afghanistan     2058.4                                                   \n",
       "2 Afrique du Sud 13860.3                                                   \n",
       "3 Albanie        12771.0                                                   \n",
       "4 Algérie        11737.4                                                   \n",
       "5 Allemagne      53071.5                                                   \n",
       "6 Andorre             NA                                                   \n",
       "  Stabilité politique et absence de violence/terrorisme (indice)\n",
       "1 -2.80                                                         \n",
       "2 -0.28                                                         \n",
       "3  0.38                                                         \n",
       "4 -0.92                                                         \n",
       "5  0.59                                                         \n",
       "6  1.42                                                         \n",
       "  Valeur des importations alimentaires par rapport aux exportations totales de marchandises (%) (moyenne sur 3 ans)\n",
       "1 363                                                                                                              \n",
       "2   6                                                                                                              \n",
       "3  21                                                                                                              \n",
       "4  23                                                                                                              \n",
       "5   5                                                                                                              \n",
       "6   3                                                                                                              "
      ]
     },
     "metadata": {},
     "output_type": "display_data"
    }
   ],
   "source": [
    "stab_gdp_concat = stab_gdp[,c('Zone','Produit','Valeur')]\n",
    "stab_gdp_concat = stab_gdp_concat %>% pivot_wider(names_from = Produit, values_from = Valeur)\n",
    "head(stab_gdp_concat)"
   ]
  },
  {
   "cell_type": "code",
   "execution_count": 28,
   "id": "99d716a7",
   "metadata": {},
   "outputs": [
    {
     "name": "stdout",
     "output_type": "stream",
     "text": [
      "[1] \"On a c(\\\"PIB par habitant, ($ PPA internationaux constants de 2017)\\\", \\\"Stabilité politique et absence de violence/terrorisme (indice)\\\", \\\"Valeur des importations alimentaires par rapport aux exportations totales de marchandises (%) (moyenne sur 3 ans)\\\") comme Produit unique\"\n",
      "[1] \"On a c(\\\"I$\\\", \\\"indice\\\", \\\"%\\\") comme unité\"\n",
      "[1] \"On a 204 Pays\"\n",
      "[1] \"On a 17 valeurs manquante\"\n"
     ]
    }
   ],
   "source": [
    "print(paste(\"On a\", list(unique(stab_gdp$Produit)) ,\"comme Produit unique\"))\n",
    "print(paste(\"On a\", list(unique(stab_gdp$Unité)), \"comme unité\"))\n",
    "print(paste(\"On a\",length(unique(stab_gdp_concat$Zone)), \"Pays\"))\n",
    "print(paste(\"On a\", sum(is.na(stab_gdp_concat)), \"valeurs manquante\"))"
   ]
  },
  {
   "cell_type": "markdown",
   "id": "318e33d2",
   "metadata": {},
   "source": [
    "<h3> Merge dataframe Indicateurs </h3>"
   ]
  },
  {
   "cell_type": "code",
   "execution_count": 29,
   "id": "e597449a",
   "metadata": {},
   "outputs": [
    {
     "data": {
      "text/html": [
       "<table class=\"dataframe\">\n",
       "<caption>A data.frame: 6 × 8</caption>\n",
       "<thead>\n",
       "\t<tr><th></th><th scope=col>Zone</th><th scope=col>Valeur US $ Produit Intérieur Brut millions</th><th scope=col>Croissance annuelle US$ Produit Intérieur Brut %</th><th scope=col>Valeur US $ Revenu national brut millions</th><th scope=col>Croissance annuelle US$ Revenu national brut %</th><th scope=col>PIB par habitant, ($ PPA internationaux constants de 2017)</th><th scope=col>Stabilité politique et absence de violence/terrorisme (indice)</th><th scope=col>Valeur des importations alimentaires par rapport aux exportations totales de marchandises (%) (moyenne sur 3 ans)</th></tr>\n",
       "\t<tr><th></th><th scope=col>&lt;chr&gt;</th><th scope=col>&lt;dbl&gt;</th><th scope=col>&lt;dbl&gt;</th><th scope=col>&lt;dbl&gt;</th><th scope=col>&lt;dbl&gt;</th><th scope=col>&lt;dbl&gt;</th><th scope=col>&lt;dbl&gt;</th><th scope=col>&lt;dbl&gt;</th></tr>\n",
       "</thead>\n",
       "<tbody>\n",
       "\t<tr><th scope=row>1</th><td>Afghanistan   </td><td>  18896.35</td><td> 4.865790</td><td>  19145.02</td><td> 5.197452</td><td> 2058.4</td><td>-2.80</td><td>363</td></tr>\n",
       "\t<tr><th scope=row>2</th><td>Afrique du Sud</td><td> 349006.69</td><td>17.771989</td><td> 338539.75</td><td>17.486899</td><td>13860.3</td><td>-0.28</td><td>  6</td></tr>\n",
       "\t<tr><th scope=row>3</th><td>Albanie       </td><td>  13019.73</td><td> 9.765944</td><td>  13051.52</td><td> 8.275484</td><td>12771.0</td><td> 0.38</td><td> 21</td></tr>\n",
       "\t<tr><th scope=row>4</th><td>Algérie       </td><td> 170096.98</td><td> 6.287889</td><td> 167910.13</td><td> 5.693699</td><td>11737.4</td><td>-0.92</td><td> 23</td></tr>\n",
       "\t<tr><th scope=row>5</th><td>Allemagne     </td><td>3690849.15</td><td> 6.441277</td><td>3778789.18</td><td> 6.339421</td><td>53071.5</td><td> 0.59</td><td>  5</td></tr>\n",
       "\t<tr><th scope=row>6</th><td>Andorre       </td><td>   3000.16</td><td> 3.645145</td><td>   3000.16</td><td> 3.645145</td><td>     NA</td><td> 1.42</td><td>  3</td></tr>\n",
       "</tbody>\n",
       "</table>\n"
      ],
      "text/latex": [
       "A data.frame: 6 × 8\n",
       "\\begin{tabular}{r|llllllll}\n",
       "  & Zone & Valeur US \\$ Produit Intérieur Brut millions & Croissance annuelle US\\$ Produit Intérieur Brut \\% & Valeur US \\$ Revenu national brut millions & Croissance annuelle US\\$ Revenu national brut \\% & PIB par habitant, (\\$ PPA internationaux constants de 2017) & Stabilité politique et absence de violence/terrorisme (indice) & Valeur des importations alimentaires par rapport aux exportations totales de marchandises (\\%) (moyenne sur 3 ans)\\\\\n",
       "  & <chr> & <dbl> & <dbl> & <dbl> & <dbl> & <dbl> & <dbl> & <dbl>\\\\\n",
       "\\hline\n",
       "\t1 & Afghanistan    &   18896.35 &  4.865790 &   19145.02 &  5.197452 &  2058.4 & -2.80 & 363\\\\\n",
       "\t2 & Afrique du Sud &  349006.69 & 17.771989 &  338539.75 & 17.486899 & 13860.3 & -0.28 &   6\\\\\n",
       "\t3 & Albanie        &   13019.73 &  9.765944 &   13051.52 &  8.275484 & 12771.0 &  0.38 &  21\\\\\n",
       "\t4 & Algérie        &  170096.98 &  6.287889 &  167910.13 &  5.693699 & 11737.4 & -0.92 &  23\\\\\n",
       "\t5 & Allemagne      & 3690849.15 &  6.441277 & 3778789.18 &  6.339421 & 53071.5 &  0.59 &   5\\\\\n",
       "\t6 & Andorre        &    3000.16 &  3.645145 &    3000.16 &  3.645145 &      NA &  1.42 &   3\\\\\n",
       "\\end{tabular}\n"
      ],
      "text/markdown": [
       "\n",
       "A data.frame: 6 × 8\n",
       "\n",
       "| <!--/--> | Zone &lt;chr&gt; | Valeur US $ Produit Intérieur Brut millions &lt;dbl&gt; | Croissance annuelle US$ Produit Intérieur Brut % &lt;dbl&gt; | Valeur US $ Revenu national brut millions &lt;dbl&gt; | Croissance annuelle US$ Revenu national brut % &lt;dbl&gt; | PIB par habitant, ($ PPA internationaux constants de 2017) &lt;dbl&gt; | Stabilité politique et absence de violence/terrorisme (indice) &lt;dbl&gt; | Valeur des importations alimentaires par rapport aux exportations totales de marchandises (%) (moyenne sur 3 ans) &lt;dbl&gt; |\n",
       "|---|---|---|---|---|---|---|---|---|\n",
       "| 1 | Afghanistan    |   18896.35 |  4.865790 |   19145.02 |  5.197452 |  2058.4 | -2.80 | 363 |\n",
       "| 2 | Afrique du Sud |  349006.69 | 17.771989 |  338539.75 | 17.486899 | 13860.3 | -0.28 |   6 |\n",
       "| 3 | Albanie        |   13019.73 |  9.765944 |   13051.52 |  8.275484 | 12771.0 |  0.38 |  21 |\n",
       "| 4 | Algérie        |  170096.98 |  6.287889 |  167910.13 |  5.693699 | 11737.4 | -0.92 |  23 |\n",
       "| 5 | Allemagne      | 3690849.15 |  6.441277 | 3778789.18 |  6.339421 | 53071.5 |  0.59 |   5 |\n",
       "| 6 | Andorre        |    3000.16 |  3.645145 |    3000.16 |  3.645145 |      NA |  1.42 |   3 |\n",
       "\n"
      ],
      "text/plain": [
       "  Zone           Valeur US $ Produit Intérieur Brut millions\n",
       "1 Afghanistan      18896.35                                 \n",
       "2 Afrique du Sud  349006.69                                 \n",
       "3 Albanie          13019.73                                 \n",
       "4 Algérie         170096.98                                 \n",
       "5 Allemagne      3690849.15                                 \n",
       "6 Andorre           3000.16                                 \n",
       "  Croissance annuelle US$ Produit Intérieur Brut %\n",
       "1  4.865790                                       \n",
       "2 17.771989                                       \n",
       "3  9.765944                                       \n",
       "4  6.287889                                       \n",
       "5  6.441277                                       \n",
       "6  3.645145                                       \n",
       "  Valeur US $ Revenu national brut millions\n",
       "1   19145.02                               \n",
       "2  338539.75                               \n",
       "3   13051.52                               \n",
       "4  167910.13                               \n",
       "5 3778789.18                               \n",
       "6    3000.16                               \n",
       "  Croissance annuelle US$ Revenu national brut %\n",
       "1  5.197452                                     \n",
       "2 17.486899                                     \n",
       "3  8.275484                                     \n",
       "4  5.693699                                     \n",
       "5  6.339421                                     \n",
       "6  3.645145                                     \n",
       "  PIB par habitant, ($ PPA internationaux constants de 2017)\n",
       "1  2058.4                                                   \n",
       "2 13860.3                                                   \n",
       "3 12771.0                                                   \n",
       "4 11737.4                                                   \n",
       "5 53071.5                                                   \n",
       "6      NA                                                   \n",
       "  Stabilité politique et absence de violence/terrorisme (indice)\n",
       "1 -2.80                                                         \n",
       "2 -0.28                                                         \n",
       "3  0.38                                                         \n",
       "4 -0.92                                                         \n",
       "5  0.59                                                         \n",
       "6  1.42                                                         \n",
       "  Valeur des importations alimentaires par rapport aux exportations totales de marchandises (%) (moyenne sur 3 ans)\n",
       "1 363                                                                                                              \n",
       "2   6                                                                                                              \n",
       "3  21                                                                                                              \n",
       "4  23                                                                                                              \n",
       "5   5                                                                                                              \n",
       "6   3                                                                                                              "
      ]
     },
     "metadata": {},
     "output_type": "display_data"
    }
   ],
   "source": [
    "donnees_indicateur = merge(ind_macro_concat, stab_gdp_concat,by = \"Zone\")\n",
    "head(donnees_indicateur)"
   ]
  },
  {
   "cell_type": "code",
   "execution_count": 30,
   "id": "eb638001",
   "metadata": {},
   "outputs": [
    {
     "name": "stdout",
     "output_type": "stream",
     "text": [
      "[1] \"13 valeurs manquantes\"\n"
     ]
    }
   ],
   "source": [
    "print(paste(sum(is.na(donnees_indicateur)), \"valeurs manquantes\"))"
   ]
  },
  {
   "cell_type": "code",
   "execution_count": 31,
   "id": "e245b8c1",
   "metadata": {},
   "outputs": [
    {
     "data": {
      "text/html": [
       "<style>\n",
       ".dl-inline {width: auto; margin:0; padding: 0}\n",
       ".dl-inline>dt, .dl-inline>dd {float: none; width: auto; display: inline-block}\n",
       ".dl-inline>dt::after {content: \":\\0020\"; padding-right: .5ex}\n",
       ".dl-inline>dt:not(:first-of-type) {padding-left: .5ex}\n",
       "</style><dl class=dl-inline><dt>Zone</dt><dd>0</dd><dt>Valeur US $ Produit Intérieur Brut millions</dt><dd>0</dd><dt>Croissance annuelle US$ Produit Intérieur Brut %</dt><dd>0</dd><dt>Valeur US $ Revenu national brut millions</dt><dd>0</dd><dt>Croissance annuelle US$ Revenu national brut %</dt><dd>0</dd><dt>PIB par habitant, ($ PPA internationaux constants de 2017)</dt><dd>13</dd><dt>Stabilité politique et absence de violence/terrorisme (indice)</dt><dd>0</dd><dt>Valeur des importations alimentaires par rapport aux exportations totales de marchandises (%) (moyenne sur 3 ans)</dt><dd>0</dd></dl>\n"
      ],
      "text/latex": [
       "\\begin{description*}\n",
       "\\item[Zone] 0\n",
       "\\item[Valeur US \\textbackslash{}\\$ Produit Intérieur Brut millions] 0\n",
       "\\item[Croissance annuelle US\\textbackslash{}\\$ Produit Intérieur Brut \\textbackslash{}\\%] 0\n",
       "\\item[Valeur US \\textbackslash{}\\$ Revenu national brut millions] 0\n",
       "\\item[Croissance annuelle US\\textbackslash{}\\$ Revenu national brut \\textbackslash{}\\%] 0\n",
       "\\item[PIB par habitant, (\\textbackslash{}\\$ PPA internationaux constants de 2017)] 13\n",
       "\\item[Stabilité politique et absence de violence/terrorisme (indice)] 0\n",
       "\\item[Valeur des importations alimentaires par rapport aux exportations totales de marchandises (\\textbackslash{}\\%) (moyenne sur 3 ans)] 0\n",
       "\\end{description*}\n"
      ],
      "text/markdown": [
       "Zone\n",
       ":   0Valeur US $ Produit Intérieur Brut millions\n",
       ":   0Croissance annuelle US$ Produit Intérieur Brut %\n",
       ":   0Valeur US $ Revenu national brut millions\n",
       ":   0Croissance annuelle US$ Revenu national brut %\n",
       ":   0PIB par habitant, ($ PPA internationaux constants de 2017)\n",
       ":   13Stabilité politique et absence de violence/terrorisme (indice)\n",
       ":   0Valeur des importations alimentaires par rapport aux exportations totales de marchandises (%) (moyenne sur 3 ans)\n",
       ":   0\n",
       "\n"
      ],
      "text/plain": [
       "                                                                                                             Zone \n",
       "                                                                                                                0 \n",
       "                                                                      Valeur US $ Produit Intérieur Brut millions \n",
       "                                                                                                                0 \n",
       "                                                                 Croissance annuelle US$ Produit Intérieur Brut % \n",
       "                                                                                                                0 \n",
       "                                                                        Valeur US $ Revenu national brut millions \n",
       "                                                                                                                0 \n",
       "                                                                   Croissance annuelle US$ Revenu national brut % \n",
       "                                                                                                                0 \n",
       "                                                       PIB par habitant, ($ PPA internationaux constants de 2017) \n",
       "                                                                                                               13 \n",
       "                                                   Stabilité politique et absence de violence/terrorisme (indice) \n",
       "                                                                                                                0 \n",
       "Valeur des importations alimentaires par rapport aux exportations totales de marchandises (%) (moyenne sur 3 ans) \n",
       "                                                                                                                0 "
      ]
     },
     "metadata": {},
     "output_type": "display_data"
    }
   ],
   "source": [
    "colSums(is.na(donnees_indicateur))"
   ]
  },
  {
   "cell_type": "code",
   "execution_count": 32,
   "id": "662bed34",
   "metadata": {},
   "outputs": [
    {
     "data": {
      "text/html": [
       "<table class=\"dataframe\">\n",
       "<caption>A data.frame: 6 × 8</caption>\n",
       "<thead>\n",
       "\t<tr><th></th><th scope=col>Zone</th><th scope=col>Valeur US $ Produit Intérieur Brut millions</th><th scope=col>Croissance annuelle US$ Produit Intérieur Brut %</th><th scope=col>Valeur US $ Revenu national brut millions</th><th scope=col>Croissance annuelle US$ Revenu national brut %</th><th scope=col>PIB par habitant, ($ PPA internationaux constants de 2017)</th><th scope=col>Stabilité politique et absence de violence/terrorisme (indice)</th><th scope=col>Valeur des importations alimentaires par rapport aux exportations totales de marchandises (%) (moyenne sur 3 ans)</th></tr>\n",
       "\t<tr><th></th><th scope=col>&lt;chr&gt;</th><th scope=col>&lt;dbl&gt;</th><th scope=col>&lt;dbl&gt;</th><th scope=col>&lt;dbl&gt;</th><th scope=col>&lt;dbl&gt;</th><th scope=col>&lt;dbl&gt;</th><th scope=col>&lt;dbl&gt;</th><th scope=col>&lt;dbl&gt;</th></tr>\n",
       "</thead>\n",
       "<tbody>\n",
       "\t<tr><th scope=row>1</th><td>Afghanistan   </td><td>  18896.35</td><td> 4.865790</td><td>  19145.02</td><td> 5.197452</td><td> 2058.4</td><td>-2.80</td><td>363</td></tr>\n",
       "\t<tr><th scope=row>2</th><td>Afrique du Sud</td><td> 349006.69</td><td>17.771989</td><td> 338539.75</td><td>17.486899</td><td>13860.3</td><td>-0.28</td><td>  6</td></tr>\n",
       "\t<tr><th scope=row>3</th><td>Albanie       </td><td>  13019.73</td><td> 9.765944</td><td>  13051.52</td><td> 8.275484</td><td>12771.0</td><td> 0.38</td><td> 21</td></tr>\n",
       "\t<tr><th scope=row>4</th><td>Algérie       </td><td> 170096.98</td><td> 6.287889</td><td> 167910.13</td><td> 5.693699</td><td>11737.4</td><td>-0.92</td><td> 23</td></tr>\n",
       "\t<tr><th scope=row>5</th><td>Allemagne     </td><td>3690849.15</td><td> 6.441277</td><td>3778789.18</td><td> 6.339421</td><td>53071.5</td><td> 0.59</td><td>  5</td></tr>\n",
       "\t<tr><th scope=row>6</th><td>Andorre       </td><td>   3000.16</td><td> 3.645145</td><td>   3000.16</td><td> 3.645145</td><td>     NA</td><td> 1.42</td><td>  3</td></tr>\n",
       "</tbody>\n",
       "</table>\n"
      ],
      "text/latex": [
       "A data.frame: 6 × 8\n",
       "\\begin{tabular}{r|llllllll}\n",
       "  & Zone & Valeur US \\$ Produit Intérieur Brut millions & Croissance annuelle US\\$ Produit Intérieur Brut \\% & Valeur US \\$ Revenu national brut millions & Croissance annuelle US\\$ Revenu national brut \\% & PIB par habitant, (\\$ PPA internationaux constants de 2017) & Stabilité politique et absence de violence/terrorisme (indice) & Valeur des importations alimentaires par rapport aux exportations totales de marchandises (\\%) (moyenne sur 3 ans)\\\\\n",
       "  & <chr> & <dbl> & <dbl> & <dbl> & <dbl> & <dbl> & <dbl> & <dbl>\\\\\n",
       "\\hline\n",
       "\t1 & Afghanistan    &   18896.35 &  4.865790 &   19145.02 &  5.197452 &  2058.4 & -2.80 & 363\\\\\n",
       "\t2 & Afrique du Sud &  349006.69 & 17.771989 &  338539.75 & 17.486899 & 13860.3 & -0.28 &   6\\\\\n",
       "\t3 & Albanie        &   13019.73 &  9.765944 &   13051.52 &  8.275484 & 12771.0 &  0.38 &  21\\\\\n",
       "\t4 & Algérie        &  170096.98 &  6.287889 &  167910.13 &  5.693699 & 11737.4 & -0.92 &  23\\\\\n",
       "\t5 & Allemagne      & 3690849.15 &  6.441277 & 3778789.18 &  6.339421 & 53071.5 &  0.59 &   5\\\\\n",
       "\t6 & Andorre        &    3000.16 &  3.645145 &    3000.16 &  3.645145 &      NA &  1.42 &   3\\\\\n",
       "\\end{tabular}\n"
      ],
      "text/markdown": [
       "\n",
       "A data.frame: 6 × 8\n",
       "\n",
       "| <!--/--> | Zone &lt;chr&gt; | Valeur US $ Produit Intérieur Brut millions &lt;dbl&gt; | Croissance annuelle US$ Produit Intérieur Brut % &lt;dbl&gt; | Valeur US $ Revenu national brut millions &lt;dbl&gt; | Croissance annuelle US$ Revenu national brut % &lt;dbl&gt; | PIB par habitant, ($ PPA internationaux constants de 2017) &lt;dbl&gt; | Stabilité politique et absence de violence/terrorisme (indice) &lt;dbl&gt; | Valeur des importations alimentaires par rapport aux exportations totales de marchandises (%) (moyenne sur 3 ans) &lt;dbl&gt; |\n",
       "|---|---|---|---|---|---|---|---|---|\n",
       "| 1 | Afghanistan    |   18896.35 |  4.865790 |   19145.02 |  5.197452 |  2058.4 | -2.80 | 363 |\n",
       "| 2 | Afrique du Sud |  349006.69 | 17.771989 |  338539.75 | 17.486899 | 13860.3 | -0.28 |   6 |\n",
       "| 3 | Albanie        |   13019.73 |  9.765944 |   13051.52 |  8.275484 | 12771.0 |  0.38 |  21 |\n",
       "| 4 | Algérie        |  170096.98 |  6.287889 |  167910.13 |  5.693699 | 11737.4 | -0.92 |  23 |\n",
       "| 5 | Allemagne      | 3690849.15 |  6.441277 | 3778789.18 |  6.339421 | 53071.5 |  0.59 |   5 |\n",
       "| 6 | Andorre        |    3000.16 |  3.645145 |    3000.16 |  3.645145 |      NA |  1.42 |   3 |\n",
       "\n"
      ],
      "text/plain": [
       "  Zone           Valeur US $ Produit Intérieur Brut millions\n",
       "1 Afghanistan      18896.35                                 \n",
       "2 Afrique du Sud  349006.69                                 \n",
       "3 Albanie          13019.73                                 \n",
       "4 Algérie         170096.98                                 \n",
       "5 Allemagne      3690849.15                                 \n",
       "6 Andorre           3000.16                                 \n",
       "  Croissance annuelle US$ Produit Intérieur Brut %\n",
       "1  4.865790                                       \n",
       "2 17.771989                                       \n",
       "3  9.765944                                       \n",
       "4  6.287889                                       \n",
       "5  6.441277                                       \n",
       "6  3.645145                                       \n",
       "  Valeur US $ Revenu national brut millions\n",
       "1   19145.02                               \n",
       "2  338539.75                               \n",
       "3   13051.52                               \n",
       "4  167910.13                               \n",
       "5 3778789.18                               \n",
       "6    3000.16                               \n",
       "  Croissance annuelle US$ Revenu national brut %\n",
       "1  5.197452                                     \n",
       "2 17.486899                                     \n",
       "3  8.275484                                     \n",
       "4  5.693699                                     \n",
       "5  6.339421                                     \n",
       "6  3.645145                                     \n",
       "  PIB par habitant, ($ PPA internationaux constants de 2017)\n",
       "1  2058.4                                                   \n",
       "2 13860.3                                                   \n",
       "3 12771.0                                                   \n",
       "4 11737.4                                                   \n",
       "5 53071.5                                                   \n",
       "6      NA                                                   \n",
       "  Stabilité politique et absence de violence/terrorisme (indice)\n",
       "1 -2.80                                                         \n",
       "2 -0.28                                                         \n",
       "3  0.38                                                         \n",
       "4 -0.92                                                         \n",
       "5  0.59                                                         \n",
       "6  1.42                                                         \n",
       "  Valeur des importations alimentaires par rapport aux exportations totales de marchandises (%) (moyenne sur 3 ans)\n",
       "1 363                                                                                                              \n",
       "2   6                                                                                                              \n",
       "3  21                                                                                                              \n",
       "4  23                                                                                                              \n",
       "5   5                                                                                                              \n",
       "6   3                                                                                                              "
      ]
     },
     "metadata": {},
     "output_type": "display_data"
    }
   ],
   "source": [
    "head(donnees_indicateur)"
   ]
  },
  {
   "cell_type": "code",
   "execution_count": 33,
   "id": "40758da9",
   "metadata": {},
   "outputs": [
    {
     "data": {
      "text/html": [
       "<table class=\"dataframe\">\n",
       "<caption>A matrix: 7 × 7 of type dbl</caption>\n",
       "<thead>\n",
       "\t<tr><th></th><th scope=col>Valeur US $ Produit Intérieur Brut millions</th><th scope=col>Croissance annuelle US$ Produit Intérieur Brut %</th><th scope=col>Valeur US $ Revenu national brut millions</th><th scope=col>Croissance annuelle US$ Revenu national brut %</th><th scope=col>PIB par habitant, ($ PPA internationaux constants de 2017)</th><th scope=col>Stabilité politique et absence de violence/terrorisme (indice)</th><th scope=col>Valeur des importations alimentaires par rapport aux exportations totales de marchandises (%) (moyenne sur 3 ans)</th></tr>\n",
       "</thead>\n",
       "<tbody>\n",
       "\t<tr><th scope=row>Valeur US $ Produit Intérieur Brut millions</th><td> 1.00000000</td><td>-0.03778296</td><td> 0.99992120</td><td>-0.01951393</td><td> 0.19036551</td><td> 0.04588829</td><td>-0.11427491</td></tr>\n",
       "\t<tr><th scope=row>Croissance annuelle US$ Produit Intérieur Brut %</th><td>-0.03778296</td><td> 1.00000000</td><td>-0.03900771</td><td> 0.94530126</td><td>-0.01452437</td><td>-0.07304529</td><td>-0.10124414</td></tr>\n",
       "\t<tr><th scope=row>Valeur US $ Revenu national brut millions</th><td> 0.99992120</td><td>-0.03900771</td><td> 1.00000000</td><td>-0.02062979</td><td> 0.18950346</td><td> 0.04595275</td><td>-0.11274122</td></tr>\n",
       "\t<tr><th scope=row>Croissance annuelle US$ Revenu national brut %</th><td>-0.01951393</td><td> 0.94530126</td><td>-0.02062979</td><td> 1.00000000</td><td>-0.01565952</td><td>-0.07265306</td><td>-0.04349207</td></tr>\n",
       "\t<tr><th scope=row>PIB par habitant, ($ PPA internationaux constants de 2017)</th><td> 0.19036551</td><td>-0.01452437</td><td> 0.18950346</td><td>-0.01565952</td><td> 1.00000000</td><td> 0.52501521</td><td>-0.25242250</td></tr>\n",
       "\t<tr><th scope=row>Stabilité politique et absence de violence/terrorisme (indice)</th><td> 0.04588829</td><td>-0.07304529</td><td> 0.04595275</td><td>-0.07265306</td><td> 0.52501521</td><td> 1.00000000</td><td>-0.03929908</td></tr>\n",
       "\t<tr><th scope=row>Valeur des importations alimentaires par rapport aux exportations totales de marchandises (%) (moyenne sur 3 ans)</th><td>-0.11427491</td><td>-0.10124414</td><td>-0.11274122</td><td>-0.04349207</td><td>-0.25242250</td><td>-0.03929908</td><td> 1.00000000</td></tr>\n",
       "</tbody>\n",
       "</table>\n"
      ],
      "text/latex": [
       "A matrix: 7 × 7 of type dbl\n",
       "\\begin{tabular}{r|lllllll}\n",
       "  & Valeur US \\$ Produit Intérieur Brut millions & Croissance annuelle US\\$ Produit Intérieur Brut \\% & Valeur US \\$ Revenu national brut millions & Croissance annuelle US\\$ Revenu national brut \\% & PIB par habitant, (\\$ PPA internationaux constants de 2017) & Stabilité politique et absence de violence/terrorisme (indice) & Valeur des importations alimentaires par rapport aux exportations totales de marchandises (\\%) (moyenne sur 3 ans)\\\\\n",
       "\\hline\n",
       "\tValeur US \\$ Produit Intérieur Brut millions &  1.00000000 & -0.03778296 &  0.99992120 & -0.01951393 &  0.19036551 &  0.04588829 & -0.11427491\\\\\n",
       "\tCroissance annuelle US\\$ Produit Intérieur Brut \\% & -0.03778296 &  1.00000000 & -0.03900771 &  0.94530126 & -0.01452437 & -0.07304529 & -0.10124414\\\\\n",
       "\tValeur US \\$ Revenu national brut millions &  0.99992120 & -0.03900771 &  1.00000000 & -0.02062979 &  0.18950346 &  0.04595275 & -0.11274122\\\\\n",
       "\tCroissance annuelle US\\$ Revenu national brut \\% & -0.01951393 &  0.94530126 & -0.02062979 &  1.00000000 & -0.01565952 & -0.07265306 & -0.04349207\\\\\n",
       "\tPIB par habitant, (\\$ PPA internationaux constants de 2017) &  0.19036551 & -0.01452437 &  0.18950346 & -0.01565952 &  1.00000000 &  0.52501521 & -0.25242250\\\\\n",
       "\tStabilité politique et absence de violence/terrorisme (indice) &  0.04588829 & -0.07304529 &  0.04595275 & -0.07265306 &  0.52501521 &  1.00000000 & -0.03929908\\\\\n",
       "\tValeur des importations alimentaires par rapport aux exportations totales de marchandises (\\%) (moyenne sur 3 ans) & -0.11427491 & -0.10124414 & -0.11274122 & -0.04349207 & -0.25242250 & -0.03929908 &  1.00000000\\\\\n",
       "\\end{tabular}\n"
      ],
      "text/markdown": [
       "\n",
       "A matrix: 7 × 7 of type dbl\n",
       "\n",
       "| <!--/--> | Valeur US $ Produit Intérieur Brut millions | Croissance annuelle US$ Produit Intérieur Brut % | Valeur US $ Revenu national brut millions | Croissance annuelle US$ Revenu national brut % | PIB par habitant, ($ PPA internationaux constants de 2017) | Stabilité politique et absence de violence/terrorisme (indice) | Valeur des importations alimentaires par rapport aux exportations totales de marchandises (%) (moyenne sur 3 ans) |\n",
       "|---|---|---|---|---|---|---|---|\n",
       "| Valeur US $ Produit Intérieur Brut millions |  1.00000000 | -0.03778296 |  0.99992120 | -0.01951393 |  0.19036551 |  0.04588829 | -0.11427491 |\n",
       "| Croissance annuelle US$ Produit Intérieur Brut % | -0.03778296 |  1.00000000 | -0.03900771 |  0.94530126 | -0.01452437 | -0.07304529 | -0.10124414 |\n",
       "| Valeur US $ Revenu national brut millions |  0.99992120 | -0.03900771 |  1.00000000 | -0.02062979 |  0.18950346 |  0.04595275 | -0.11274122 |\n",
       "| Croissance annuelle US$ Revenu national brut % | -0.01951393 |  0.94530126 | -0.02062979 |  1.00000000 | -0.01565952 | -0.07265306 | -0.04349207 |\n",
       "| PIB par habitant, ($ PPA internationaux constants de 2017) |  0.19036551 | -0.01452437 |  0.18950346 | -0.01565952 |  1.00000000 |  0.52501521 | -0.25242250 |\n",
       "| Stabilité politique et absence de violence/terrorisme (indice) |  0.04588829 | -0.07304529 |  0.04595275 | -0.07265306 |  0.52501521 |  1.00000000 | -0.03929908 |\n",
       "| Valeur des importations alimentaires par rapport aux exportations totales de marchandises (%) (moyenne sur 3 ans) | -0.11427491 | -0.10124414 | -0.11274122 | -0.04349207 | -0.25242250 | -0.03929908 |  1.00000000 |\n",
       "\n"
      ],
      "text/plain": [
       "                                                                                                                  Valeur US $ Produit Intérieur Brut millions\n",
       "Valeur US $ Produit Intérieur Brut millions                                                                        1.00000000                                \n",
       "Croissance annuelle US$ Produit Intérieur Brut %                                                                  -0.03778296                                \n",
       "Valeur US $ Revenu national brut millions                                                                          0.99992120                                \n",
       "Croissance annuelle US$ Revenu national brut %                                                                    -0.01951393                                \n",
       "PIB par habitant, ($ PPA internationaux constants de 2017)                                                         0.19036551                                \n",
       "Stabilité politique et absence de violence/terrorisme (indice)                                                     0.04588829                                \n",
       "Valeur des importations alimentaires par rapport aux exportations totales de marchandises (%) (moyenne sur 3 ans) -0.11427491                                \n",
       "                                                                                                                  Croissance annuelle US$ Produit Intérieur Brut %\n",
       "Valeur US $ Produit Intérieur Brut millions                                                                       -0.03778296                                     \n",
       "Croissance annuelle US$ Produit Intérieur Brut %                                                                   1.00000000                                     \n",
       "Valeur US $ Revenu national brut millions                                                                         -0.03900771                                     \n",
       "Croissance annuelle US$ Revenu national brut %                                                                     0.94530126                                     \n",
       "PIB par habitant, ($ PPA internationaux constants de 2017)                                                        -0.01452437                                     \n",
       "Stabilité politique et absence de violence/terrorisme (indice)                                                    -0.07304529                                     \n",
       "Valeur des importations alimentaires par rapport aux exportations totales de marchandises (%) (moyenne sur 3 ans) -0.10124414                                     \n",
       "                                                                                                                  Valeur US $ Revenu national brut millions\n",
       "Valeur US $ Produit Intérieur Brut millions                                                                        0.99992120                              \n",
       "Croissance annuelle US$ Produit Intérieur Brut %                                                                  -0.03900771                              \n",
       "Valeur US $ Revenu national brut millions                                                                          1.00000000                              \n",
       "Croissance annuelle US$ Revenu national brut %                                                                    -0.02062979                              \n",
       "PIB par habitant, ($ PPA internationaux constants de 2017)                                                         0.18950346                              \n",
       "Stabilité politique et absence de violence/terrorisme (indice)                                                     0.04595275                              \n",
       "Valeur des importations alimentaires par rapport aux exportations totales de marchandises (%) (moyenne sur 3 ans) -0.11274122                              \n",
       "                                                                                                                  Croissance annuelle US$ Revenu national brut %\n",
       "Valeur US $ Produit Intérieur Brut millions                                                                       -0.01951393                                   \n",
       "Croissance annuelle US$ Produit Intérieur Brut %                                                                   0.94530126                                   \n",
       "Valeur US $ Revenu national brut millions                                                                         -0.02062979                                   \n",
       "Croissance annuelle US$ Revenu national brut %                                                                     1.00000000                                   \n",
       "PIB par habitant, ($ PPA internationaux constants de 2017)                                                        -0.01565952                                   \n",
       "Stabilité politique et absence de violence/terrorisme (indice)                                                    -0.07265306                                   \n",
       "Valeur des importations alimentaires par rapport aux exportations totales de marchandises (%) (moyenne sur 3 ans) -0.04349207                                   \n",
       "                                                                                                                  PIB par habitant, ($ PPA internationaux constants de 2017)\n",
       "Valeur US $ Produit Intérieur Brut millions                                                                        0.19036551                                               \n",
       "Croissance annuelle US$ Produit Intérieur Brut %                                                                  -0.01452437                                               \n",
       "Valeur US $ Revenu national brut millions                                                                          0.18950346                                               \n",
       "Croissance annuelle US$ Revenu national brut %                                                                    -0.01565952                                               \n",
       "PIB par habitant, ($ PPA internationaux constants de 2017)                                                         1.00000000                                               \n",
       "Stabilité politique et absence de violence/terrorisme (indice)                                                     0.52501521                                               \n",
       "Valeur des importations alimentaires par rapport aux exportations totales de marchandises (%) (moyenne sur 3 ans) -0.25242250                                               \n",
       "                                                                                                                  Stabilité politique et absence de violence/terrorisme (indice)\n",
       "Valeur US $ Produit Intérieur Brut millions                                                                        0.04588829                                                   \n",
       "Croissance annuelle US$ Produit Intérieur Brut %                                                                  -0.07304529                                                   \n",
       "Valeur US $ Revenu national brut millions                                                                          0.04595275                                                   \n",
       "Croissance annuelle US$ Revenu national brut %                                                                    -0.07265306                                                   \n",
       "PIB par habitant, ($ PPA internationaux constants de 2017)                                                         0.52501521                                                   \n",
       "Stabilité politique et absence de violence/terrorisme (indice)                                                     1.00000000                                                   \n",
       "Valeur des importations alimentaires par rapport aux exportations totales de marchandises (%) (moyenne sur 3 ans) -0.03929908                                                   \n",
       "                                                                                                                  Valeur des importations alimentaires par rapport aux exportations totales de marchandises (%) (moyenne sur 3 ans)\n",
       "Valeur US $ Produit Intérieur Brut millions                                                                       -0.11427491                                                                                                      \n",
       "Croissance annuelle US$ Produit Intérieur Brut %                                                                  -0.10124414                                                                                                      \n",
       "Valeur US $ Revenu national brut millions                                                                         -0.11274122                                                                                                      \n",
       "Croissance annuelle US$ Revenu national brut %                                                                    -0.04349207                                                                                                      \n",
       "PIB par habitant, ($ PPA internationaux constants de 2017)                                                        -0.25242250                                                                                                      \n",
       "Stabilité politique et absence de violence/terrorisme (indice)                                                    -0.03929908                                                                                                      \n",
       "Valeur des importations alimentaires par rapport aux exportations totales de marchandises (%) (moyenne sur 3 ans)  1.00000000                                                                                                      "
      ]
     },
     "metadata": {},
     "output_type": "display_data"
    }
   ],
   "source": [
    "cor(na.omit(donnees_indicateur %>% select(!c(\"Zone\"))))\n",
    "donnees_indicateur[4:6] = list(NULL)"
   ]
  },
  {
   "cell_type": "markdown",
   "id": "9acc33a1",
   "metadata": {},
   "source": [
    "donnees_indicateur[4:6] = list(NULL)\n",
    "donnees_indicateur[is.na(donnees_indicateur)] = 0"
   ]
  },
  {
   "cell_type": "code",
   "execution_count": 34,
   "id": "4242dd93",
   "metadata": {},
   "outputs": [],
   "source": [
    "write.csv(donnees_indicateur, file = \"~/OpenClassrooms/Projet 9/data/merged/donnees_indicateur.csv\", \n",
    "    fileEncoding = \"UTF-8\", row.names = FALSE)"
   ]
  },
  {
   "cell_type": "markdown",
   "id": "f7bf48be",
   "metadata": {},
   "source": [
    "<h2> Emploi Agriculture </h2>"
   ]
  },
  {
   "cell_type": "code",
   "execution_count": 35,
   "id": "973cc8cb",
   "metadata": {},
   "outputs": [],
   "source": [
    "emploi_agri = read.csv(\"~/OpenClassrooms/Projet 9/data/Emploi/FAO_IndicateurEmploi_Agriculture.csv\", encoding = \"UTF-8\")"
   ]
  },
  {
   "cell_type": "code",
   "execution_count": 36,
   "id": "8a60be9e",
   "metadata": {
    "scrolled": true
   },
   "outputs": [
    {
     "data": {
      "text/plain": [
       " X.U.FEFF.Code.Domaine   Domaine          Code.zone..M49.     Zone          \n",
       " Length:189            Length:189         Min.   :  4.0   Length:189        \n",
       " Class :character      Class :character   1st Qu.:214.0   Class :character  \n",
       " Mode  :character      Mode  :character   Median :426.0   Mode  :character  \n",
       "                                          Mean   :434.5                     \n",
       "                                          3rd Qu.:662.0                     \n",
       "                                          Max.   :894.0                     \n",
       " Code.indicateur  Indicateur           Sex.Code      Sex           \n",
       " Min.   :21144   Length:189         Min.   :13   Length:189        \n",
       " 1st Qu.:21144   Class :character   1st Qu.:13   Class :character  \n",
       " Median :21144   Mode  :character   Median :13   Mode  :character  \n",
       " Mean   :21144                      Mean   :13                     \n",
       " 3rd Qu.:21144                      3rd Qu.:13                     \n",
       " Max.   :21144                      Max.   :13                     \n",
       "   Code.année       Année       Code.source      Source         \n",
       " Min.   :2017   Min.   :2017   Min.   :3043   Length:189        \n",
       " 1st Qu.:2017   1st Qu.:2017   1st Qu.:3043   Class :character  \n",
       " Median :2017   Median :2017   Median :3043   Mode  :character  \n",
       " Mean   :2017   Mean   :2017   Mean   :3043                     \n",
       " 3rd Qu.:2017   3rd Qu.:2017   3rd Qu.:3043                     \n",
       " Max.   :2017   Max.   :2017   Max.   :3043                     \n",
       "    Unité               Valeur            Symbole         \n",
       " Length:189         Min.   :     0.19   Length:189        \n",
       " Class :character   1st Qu.:    73.19   Class :character  \n",
       " Mode  :character   Median :   504.74   Mode  :character  \n",
       "                    Mean   :  4742.55                     \n",
       "                    3rd Qu.:  2466.95                     \n",
       "                    Max.   :208092.12                     \n",
       " Description.du.Symbole     Note          \n",
       " Length:189             Length:189        \n",
       " Class :character       Class :character  \n",
       " Mode  :character       Mode  :character  \n",
       "                                          \n",
       "                                          \n",
       "                                          "
      ]
     },
     "metadata": {},
     "output_type": "display_data"
    }
   ],
   "source": [
    "summary(emploi_agri)"
   ]
  },
  {
   "cell_type": "code",
   "execution_count": 37,
   "id": "161e9f8f",
   "metadata": {},
   "outputs": [],
   "source": [
    "#Pour réduire le nombre de colonnes on va garder pour cet étude le \"Total\"(sex)\n",
    "emploi_agri[\"Ind_Emploi_Agri\"] = paste(emploi_agri$Indicateur, emploi_agri$Sex)\n",
    "emploi_agri[\"Ind_Emploi_Agri\"] = paste(emploi_agri$Ind_Emploi_Agri, emploi_agri$Unité)\n",
    "emploi_agri_concat = emploi_agri[, c(\"Zone\", \"Ind_Emploi_Agri\", \"Valeur\")]\n",
    "emploi_agri_concat = emploi_agri_concat %>% pivot_wider(names_from = Ind_Emploi_Agri, values_from = Valeur)\n",
    "donnees_emploi = emploi_agri_concat"
   ]
  },
  {
   "cell_type": "code",
   "execution_count": 38,
   "id": "2699f49c",
   "metadata": {},
   "outputs": [],
   "source": [
    "write.csv(donnees_emploi, file = \"~/OpenClassrooms/Projet 9/data/merged/donnees_emploi.csv\", \n",
    "    fileEncoding = \"UTF-8\", row.names = FALSE)"
   ]
  },
  {
   "cell_type": "markdown",
   "id": "04c5cfa3",
   "metadata": {},
   "source": [
    "<h2> Investissement </h2>"
   ]
  },
  {
   "cell_type": "code",
   "execution_count": 39,
   "id": "a2e32431",
   "metadata": {},
   "outputs": [],
   "source": [
    "profil_invest = read.csv(\"~/OpenClassrooms/Projet 9/data/Investissement/FAO_Profil_Investissements_2017.csv\", \n",
    "    encoding = \"UTF-8\")\n",
    "flux_dev = read.csv(\"~/OpenClassrooms/Projet 9/data/Investissement/FAO_FluxDeveloppement_2017.csv\", \n",
    "    encoding = \"UTF-8\")"
   ]
  },
  {
   "cell_type": "markdown",
   "id": "d9a95a2e",
   "metadata": {},
   "source": [
    "<h3> Profil Investissement </h3>"
   ]
  },
  {
   "cell_type": "code",
   "execution_count": 40,
   "id": "13cefacb",
   "metadata": {},
   "outputs": [
    {
     "data": {
      "text/html": [
       "<table class=\"dataframe\">\n",
       "<caption>A tibble: 6 × 2</caption>\n",
       "<thead>\n",
       "\t<tr><th scope=col>Zone</th><th scope=col>Valeur US $ IED - entrées totales millions</th></tr>\n",
       "\t<tr><th scope=col>&lt;chr&gt;</th><th scope=col>&lt;dbl&gt;</th></tr>\n",
       "</thead>\n",
       "<tbody>\n",
       "\t<tr><td>Afghanistan   </td><td>   53.390</td></tr>\n",
       "\t<tr><td>Afrique du Sud</td><td> 2008.361</td></tr>\n",
       "\t<tr><td>Albanie       </td><td> 1148.891</td></tr>\n",
       "\t<tr><td>Algérie       </td><td> 1232.342</td></tr>\n",
       "\t<tr><td>Allemagne     </td><td>48641.418</td></tr>\n",
       "\t<tr><td>Angola        </td><td>-7397.295</td></tr>\n",
       "</tbody>\n",
       "</table>\n"
      ],
      "text/latex": [
       "A tibble: 6 × 2\n",
       "\\begin{tabular}{ll}\n",
       " Zone & Valeur US \\$ IED - entrées totales millions\\\\\n",
       " <chr> & <dbl>\\\\\n",
       "\\hline\n",
       "\t Afghanistan    &    53.390\\\\\n",
       "\t Afrique du Sud &  2008.361\\\\\n",
       "\t Albanie        &  1148.891\\\\\n",
       "\t Algérie        &  1232.342\\\\\n",
       "\t Allemagne      & 48641.418\\\\\n",
       "\t Angola         & -7397.295\\\\\n",
       "\\end{tabular}\n"
      ],
      "text/markdown": [
       "\n",
       "A tibble: 6 × 2\n",
       "\n",
       "| Zone &lt;chr&gt; | Valeur US $ IED - entrées totales millions &lt;dbl&gt; |\n",
       "|---|---|\n",
       "| Afghanistan    |    53.390 |\n",
       "| Afrique du Sud |  2008.361 |\n",
       "| Albanie        |  1148.891 |\n",
       "| Algérie        |  1232.342 |\n",
       "| Allemagne      | 48641.418 |\n",
       "| Angola         | -7397.295 |\n",
       "\n"
      ],
      "text/plain": [
       "  Zone           Valeur US $ IED - entrées totales millions\n",
       "1 Afghanistan       53.390                                 \n",
       "2 Afrique du Sud  2008.361                                 \n",
       "3 Albanie         1148.891                                 \n",
       "4 Algérie         1232.342                                 \n",
       "5 Allemagne      48641.418                                 \n",
       "6 Angola         -7397.295                                 "
      ]
     },
     "metadata": {},
     "output_type": "display_data"
    }
   ],
   "source": [
    "profil_invest = filter(profil_invest, Produit %in% c(\"IED - entrées totales\"))\n",
    "\n",
    "profil_invest[\"Profil_Produit\"] = paste(profil_invest$Élément, profil_invest$Produit)\n",
    "profil_invest[\"Profil_Produit\"] = paste(profil_invest$Profil_Produit, profil_invest$Unité)\n",
    "profil_invest_concat = profil_invest[, c(\"Zone\", \"Profil_Produit\", \"Valeur\")]\n",
    "profil_invest_concat = profil_invest_concat %>% pivot_wider(names_from = Profil_Produit, values_from = Valeur)\n",
    "head(profil_invest_concat)"
   ]
  },
  {
   "cell_type": "code",
   "execution_count": 41,
   "id": "4f543d60",
   "metadata": {},
   "outputs": [
    {
     "name": "stdout",
     "output_type": "stream",
     "text": [
      "[1] \"On a IED - entrées totales comme Produit unique\"\n",
      "[1] \"On a millions comme unité\"\n",
      "[1] \"On a 200 Pays\"\n",
      "[1] \"On a 0 valeurs manquante\"\n"
     ]
    }
   ],
   "source": [
    "print(paste(\"On a\", list(unique(profil_invest$Produit)) ,\"comme Produit unique\"))\n",
    "print(paste(\"On a\", list(unique(profil_invest$Unité)), \"comme unité\"))\n",
    "print(paste(\"On a\",length(unique(profil_invest_concat$Zone)), \"Pays\"))\n",
    "print(paste(\"On a\", sum(is.na(profil_invest_concat)), \"valeurs manquante\"))"
   ]
  },
  {
   "cell_type": "code",
   "execution_count": 42,
   "id": "fde76c41",
   "metadata": {},
   "outputs": [
    {
     "data": {
      "text/html": [
       "<style>\n",
       ".dl-inline {width: auto; margin:0; padding: 0}\n",
       ".dl-inline>dt, .dl-inline>dd {float: none; width: auto; display: inline-block}\n",
       ".dl-inline>dt::after {content: \":\\0020\"; padding-right: .5ex}\n",
       ".dl-inline>dt:not(:first-of-type) {padding-left: .5ex}\n",
       "</style><dl class=dl-inline><dt>Zone</dt><dd>0</dd><dt>Valeur US $ IED - entrées totales millions</dt><dd>0</dd></dl>\n"
      ],
      "text/latex": [
       "\\begin{description*}\n",
       "\\item[Zone] 0\n",
       "\\item[Valeur US \\textbackslash{}\\$ IED - entrées totales millions] 0\n",
       "\\end{description*}\n"
      ],
      "text/markdown": [
       "Zone\n",
       ":   0Valeur US $ IED - entrées totales millions\n",
       ":   0\n",
       "\n"
      ],
      "text/plain": [
       "                                      Zone \n",
       "                                         0 \n",
       "Valeur US $ IED - entrées totales millions \n",
       "                                         0 "
      ]
     },
     "metadata": {},
     "output_type": "display_data"
    }
   ],
   "source": [
    "colSums(is.na(profil_invest_concat))"
   ]
  },
  {
   "cell_type": "code",
   "execution_count": 43,
   "id": "e57eca50",
   "metadata": {},
   "outputs": [],
   "source": [
    "profil_invest_concat[is.na(profil_invest_concat)] = 0"
   ]
  },
  {
   "cell_type": "markdown",
   "id": "6cfda983",
   "metadata": {},
   "source": [
    "<h3> Flux Developpement </h3>"
   ]
  },
  {
   "cell_type": "markdown",
   "id": "b6c261f8",
   "metadata": {},
   "source": [
    "Ici on a des versement de la France vers des pays bénéficiare."
   ]
  },
  {
   "cell_type": "code",
   "execution_count": 44,
   "id": "f66a1d90",
   "metadata": {},
   "outputs": [
    {
     "data": {
      "text/html": [
       "<table class=\"dataframe\">\n",
       "<caption>A data.frame: 6 × 20</caption>\n",
       "<thead>\n",
       "\t<tr><th></th><th scope=col>Code.Domaine</th><th scope=col>Domaine</th><th scope=col>Code.Donateur..M49.</th><th scope=col>Donateur</th><th scope=col>Code.Pays.bénéficiaire..M49.</th><th scope=col>Pays.bénéficiaire</th><th scope=col>Code.Élément</th><th scope=col>Élément</th><th scope=col>Code.Produit</th><th scope=col>Produit</th><th scope=col>Code.objectif</th><th scope=col>Objectif</th><th scope=col>Code.année</th><th scope=col>Année</th><th scope=col>Unité</th><th scope=col>Valeur</th><th scope=col>Symbole</th><th scope=col>Description.du.Symbole</th><th scope=col>Note</th><th scope=col>Flux_Dev_Produit</th></tr>\n",
       "\t<tr><th></th><th scope=col>&lt;chr&gt;</th><th scope=col>&lt;chr&gt;</th><th scope=col>&lt;int&gt;</th><th scope=col>&lt;chr&gt;</th><th scope=col>&lt;int&gt;</th><th scope=col>&lt;chr&gt;</th><th scope=col>&lt;int&gt;</th><th scope=col>&lt;chr&gt;</th><th scope=col>&lt;int&gt;</th><th scope=col>&lt;chr&gt;</th><th scope=col>&lt;int&gt;</th><th scope=col>&lt;chr&gt;</th><th scope=col>&lt;int&gt;</th><th scope=col>&lt;int&gt;</th><th scope=col>&lt;chr&gt;</th><th scope=col>&lt;dbl&gt;</th><th scope=col>&lt;chr&gt;</th><th scope=col>&lt;chr&gt;</th><th scope=col>&lt;lgl&gt;</th><th scope=col>&lt;chr&gt;</th></tr>\n",
       "</thead>\n",
       "<tbody>\n",
       "\t<tr><th scope=row>1</th><td>EA</td><td>Flux de développement de l’Agriculture</td><td>250</td><td>France</td><td>  4</td><td>Afghanistan   </td><td>6110</td><td>Valeur US $</td><td>22050</td><td>Versement</td><td>311</td><td>Agriculture</td><td>2017</td><td>2017</td><td>millions</td><td>0.000000</td><td>E</td><td>Valeur estimée</td><td>NA</td><td>Versement Agriculture Valeur US $</td></tr>\n",
       "\t<tr><th scope=row>2</th><td>EA</td><td>Flux de développement de l’Agriculture</td><td>250</td><td>France</td><td>710</td><td>Afrique du Sud</td><td>6110</td><td>Valeur US $</td><td>22050</td><td>Versement</td><td>311</td><td>Agriculture</td><td>2017</td><td>2017</td><td>millions</td><td>1.266818</td><td>E</td><td>Valeur estimée</td><td>NA</td><td>Versement Agriculture Valeur US $</td></tr>\n",
       "\t<tr><th scope=row>3</th><td>EA</td><td>Flux de développement de l’Agriculture</td><td>250</td><td>France</td><td>  8</td><td>Albanie       </td><td>6110</td><td>Valeur US $</td><td>22050</td><td>Versement</td><td>311</td><td>Agriculture</td><td>2017</td><td>2017</td><td>millions</td><td>      NA</td><td> </td><td>              </td><td>NA</td><td>Versement Agriculture Valeur US $</td></tr>\n",
       "\t<tr><th scope=row>4</th><td>EA</td><td>Flux de développement de l’Agriculture</td><td>250</td><td>France</td><td> 12</td><td>Algérie       </td><td>6110</td><td>Valeur US $</td><td>22050</td><td>Versement</td><td>311</td><td>Agriculture</td><td>2017</td><td>2017</td><td>millions</td><td>0.003585</td><td>E</td><td>Valeur estimée</td><td>NA</td><td>Versement Agriculture Valeur US $</td></tr>\n",
       "\t<tr><th scope=row>5</th><td>EA</td><td>Flux de développement de l’Agriculture</td><td>250</td><td>France</td><td> 24</td><td>Angola        </td><td>6110</td><td>Valeur US $</td><td>22050</td><td>Versement</td><td>311</td><td>Agriculture</td><td>2017</td><td>2017</td><td>millions</td><td>      NA</td><td> </td><td>              </td><td>NA</td><td>Versement Agriculture Valeur US $</td></tr>\n",
       "\t<tr><th scope=row>6</th><td>EA</td><td>Flux de développement de l’Agriculture</td><td>250</td><td>France</td><td>660</td><td>Anguilla      </td><td>6110</td><td>Valeur US $</td><td>22050</td><td>Versement</td><td>311</td><td>Agriculture</td><td>2017</td><td>2017</td><td>millions</td><td>      NA</td><td> </td><td>              </td><td>NA</td><td>Versement Agriculture Valeur US $</td></tr>\n",
       "</tbody>\n",
       "</table>\n"
      ],
      "text/latex": [
       "A data.frame: 6 × 20\n",
       "\\begin{tabular}{r|llllllllllllllllllll}\n",
       "  & Code.Domaine & Domaine & Code.Donateur..M49. & Donateur & Code.Pays.bénéficiaire..M49. & Pays.bénéficiaire & Code.Élément & Élément & Code.Produit & Produit & Code.objectif & Objectif & Code.année & Année & Unité & Valeur & Symbole & Description.du.Symbole & Note & Flux\\_Dev\\_Produit\\\\\n",
       "  & <chr> & <chr> & <int> & <chr> & <int> & <chr> & <int> & <chr> & <int> & <chr> & <int> & <chr> & <int> & <int> & <chr> & <dbl> & <chr> & <chr> & <lgl> & <chr>\\\\\n",
       "\\hline\n",
       "\t1 & EA & Flux de développement de l’Agriculture & 250 & France &   4 & Afghanistan    & 6110 & Valeur US \\$ & 22050 & Versement & 311 & Agriculture & 2017 & 2017 & millions & 0.000000 & E & Valeur estimée & NA & Versement Agriculture Valeur US \\$\\\\\n",
       "\t2 & EA & Flux de développement de l’Agriculture & 250 & France & 710 & Afrique du Sud & 6110 & Valeur US \\$ & 22050 & Versement & 311 & Agriculture & 2017 & 2017 & millions & 1.266818 & E & Valeur estimée & NA & Versement Agriculture Valeur US \\$\\\\\n",
       "\t3 & EA & Flux de développement de l’Agriculture & 250 & France &   8 & Albanie        & 6110 & Valeur US \\$ & 22050 & Versement & 311 & Agriculture & 2017 & 2017 & millions &       NA &   &                & NA & Versement Agriculture Valeur US \\$\\\\\n",
       "\t4 & EA & Flux de développement de l’Agriculture & 250 & France &  12 & Algérie        & 6110 & Valeur US \\$ & 22050 & Versement & 311 & Agriculture & 2017 & 2017 & millions & 0.003585 & E & Valeur estimée & NA & Versement Agriculture Valeur US \\$\\\\\n",
       "\t5 & EA & Flux de développement de l’Agriculture & 250 & France &  24 & Angola         & 6110 & Valeur US \\$ & 22050 & Versement & 311 & Agriculture & 2017 & 2017 & millions &       NA &   &                & NA & Versement Agriculture Valeur US \\$\\\\\n",
       "\t6 & EA & Flux de développement de l’Agriculture & 250 & France & 660 & Anguilla       & 6110 & Valeur US \\$ & 22050 & Versement & 311 & Agriculture & 2017 & 2017 & millions &       NA &   &                & NA & Versement Agriculture Valeur US \\$\\\\\n",
       "\\end{tabular}\n"
      ],
      "text/markdown": [
       "\n",
       "A data.frame: 6 × 20\n",
       "\n",
       "| <!--/--> | Code.Domaine &lt;chr&gt; | Domaine &lt;chr&gt; | Code.Donateur..M49. &lt;int&gt; | Donateur &lt;chr&gt; | Code.Pays.bénéficiaire..M49. &lt;int&gt; | Pays.bénéficiaire &lt;chr&gt; | Code.Élément &lt;int&gt; | Élément &lt;chr&gt; | Code.Produit &lt;int&gt; | Produit &lt;chr&gt; | Code.objectif &lt;int&gt; | Objectif &lt;chr&gt; | Code.année &lt;int&gt; | Année &lt;int&gt; | Unité &lt;chr&gt; | Valeur &lt;dbl&gt; | Symbole &lt;chr&gt; | Description.du.Symbole &lt;chr&gt; | Note &lt;lgl&gt; | Flux_Dev_Produit &lt;chr&gt; |\n",
       "|---|---|---|---|---|---|---|---|---|---|---|---|---|---|---|---|---|---|---|---|---|\n",
       "| 1 | EA | Flux de développement de l’Agriculture | 250 | France |   4 | Afghanistan    | 6110 | Valeur US $ | 22050 | Versement | 311 | Agriculture | 2017 | 2017 | millions | 0.000000 | E | Valeur estimée | NA | Versement Agriculture Valeur US $ |\n",
       "| 2 | EA | Flux de développement de l’Agriculture | 250 | France | 710 | Afrique du Sud | 6110 | Valeur US $ | 22050 | Versement | 311 | Agriculture | 2017 | 2017 | millions | 1.266818 | E | Valeur estimée | NA | Versement Agriculture Valeur US $ |\n",
       "| 3 | EA | Flux de développement de l’Agriculture | 250 | France |   8 | Albanie        | 6110 | Valeur US $ | 22050 | Versement | 311 | Agriculture | 2017 | 2017 | millions |       NA | <!----> | <!----> | NA | Versement Agriculture Valeur US $ |\n",
       "| 4 | EA | Flux de développement de l’Agriculture | 250 | France |  12 | Algérie        | 6110 | Valeur US $ | 22050 | Versement | 311 | Agriculture | 2017 | 2017 | millions | 0.003585 | E | Valeur estimée | NA | Versement Agriculture Valeur US $ |\n",
       "| 5 | EA | Flux de développement de l’Agriculture | 250 | France |  24 | Angola         | 6110 | Valeur US $ | 22050 | Versement | 311 | Agriculture | 2017 | 2017 | millions |       NA | <!----> | <!----> | NA | Versement Agriculture Valeur US $ |\n",
       "| 6 | EA | Flux de développement de l’Agriculture | 250 | France | 660 | Anguilla       | 6110 | Valeur US $ | 22050 | Versement | 311 | Agriculture | 2017 | 2017 | millions |       NA | <!----> | <!----> | NA | Versement Agriculture Valeur US $ |\n",
       "\n"
      ],
      "text/plain": [
       "  Code.Domaine Domaine                                Code.Donateur..M49.\n",
       "1 EA           Flux de développement de l’Agriculture 250                \n",
       "2 EA           Flux de développement de l’Agriculture 250                \n",
       "3 EA           Flux de développement de l’Agriculture 250                \n",
       "4 EA           Flux de développement de l’Agriculture 250                \n",
       "5 EA           Flux de développement de l’Agriculture 250                \n",
       "6 EA           Flux de développement de l’Agriculture 250                \n",
       "  Donateur Code.Pays.bénéficiaire..M49. Pays.bénéficiaire Code.Élément\n",
       "1 France     4                          Afghanistan       6110        \n",
       "2 France   710                          Afrique du Sud    6110        \n",
       "3 France     8                          Albanie           6110        \n",
       "4 France    12                          Algérie           6110        \n",
       "5 France    24                          Angola            6110        \n",
       "6 France   660                          Anguilla          6110        \n",
       "  Élément     Code.Produit Produit   Code.objectif Objectif    Code.année Année\n",
       "1 Valeur US $ 22050        Versement 311           Agriculture 2017       2017 \n",
       "2 Valeur US $ 22050        Versement 311           Agriculture 2017       2017 \n",
       "3 Valeur US $ 22050        Versement 311           Agriculture 2017       2017 \n",
       "4 Valeur US $ 22050        Versement 311           Agriculture 2017       2017 \n",
       "5 Valeur US $ 22050        Versement 311           Agriculture 2017       2017 \n",
       "6 Valeur US $ 22050        Versement 311           Agriculture 2017       2017 \n",
       "  Unité    Valeur   Symbole Description.du.Symbole Note\n",
       "1 millions 0.000000 E       Valeur estimée         NA  \n",
       "2 millions 1.266818 E       Valeur estimée         NA  \n",
       "3 millions       NA                                NA  \n",
       "4 millions 0.003585 E       Valeur estimée         NA  \n",
       "5 millions       NA                                NA  \n",
       "6 millions       NA                                NA  \n",
       "  Flux_Dev_Produit                 \n",
       "1 Versement Agriculture Valeur US $\n",
       "2 Versement Agriculture Valeur US $\n",
       "3 Versement Agriculture Valeur US $\n",
       "4 Versement Agriculture Valeur US $\n",
       "5 Versement Agriculture Valeur US $\n",
       "6 Versement Agriculture Valeur US $"
      ]
     },
     "metadata": {},
     "output_type": "display_data"
    }
   ],
   "source": [
    "flux_dev[\"Flux_Dev_Produit\"] = paste(flux_dev$Produit, flux_dev$Objectif)\n",
    "flux_dev[\"Flux_Dev_Produit\"] = paste(flux_dev$Flux_Dev_Produit, flux_dev$Élément)\n",
    "head(flux_dev)"
   ]
  },
  {
   "cell_type": "code",
   "execution_count": 45,
   "id": "745ed10e",
   "metadata": {},
   "outputs": [
    {
     "data": {
      "text/html": [
       "<table class=\"dataframe\">\n",
       "<caption>A tibble: 6 × 2</caption>\n",
       "<thead>\n",
       "\t<tr><th scope=col>Zone</th><th scope=col>Versement Agriculture Valeur US $ millions</th></tr>\n",
       "\t<tr><th scope=col>&lt;chr&gt;</th><th scope=col>&lt;dbl&gt;</th></tr>\n",
       "</thead>\n",
       "<tbody>\n",
       "\t<tr><td>Afghanistan   </td><td>0.000000</td></tr>\n",
       "\t<tr><td>Afrique du Sud</td><td>1.266818</td></tr>\n",
       "\t<tr><td>Albanie       </td><td>      NA</td></tr>\n",
       "\t<tr><td>Algérie       </td><td>0.003585</td></tr>\n",
       "\t<tr><td>Angola        </td><td>      NA</td></tr>\n",
       "\t<tr><td>Anguilla      </td><td>      NA</td></tr>\n",
       "</tbody>\n",
       "</table>\n"
      ],
      "text/latex": [
       "A tibble: 6 × 2\n",
       "\\begin{tabular}{ll}\n",
       " Zone & Versement Agriculture Valeur US \\$ millions\\\\\n",
       " <chr> & <dbl>\\\\\n",
       "\\hline\n",
       "\t Afghanistan    & 0.000000\\\\\n",
       "\t Afrique du Sud & 1.266818\\\\\n",
       "\t Albanie        &       NA\\\\\n",
       "\t Algérie        & 0.003585\\\\\n",
       "\t Angola         &       NA\\\\\n",
       "\t Anguilla       &       NA\\\\\n",
       "\\end{tabular}\n"
      ],
      "text/markdown": [
       "\n",
       "A tibble: 6 × 2\n",
       "\n",
       "| Zone &lt;chr&gt; | Versement Agriculture Valeur US $ millions &lt;dbl&gt; |\n",
       "|---|---|\n",
       "| Afghanistan    | 0.000000 |\n",
       "| Afrique du Sud | 1.266818 |\n",
       "| Albanie        |       NA |\n",
       "| Algérie        | 0.003585 |\n",
       "| Angola         |       NA |\n",
       "| Anguilla       |       NA |\n",
       "\n"
      ],
      "text/plain": [
       "  Zone           Versement Agriculture Valeur US $ millions\n",
       "1 Afghanistan    0.000000                                  \n",
       "2 Afrique du Sud 1.266818                                  \n",
       "3 Albanie              NA                                  \n",
       "4 Algérie        0.003585                                  \n",
       "5 Angola               NA                                  \n",
       "6 Anguilla             NA                                  "
      ]
     },
     "metadata": {},
     "output_type": "display_data"
    }
   ],
   "source": [
    "flux_dev[\"Flux_Dev_Produit\"] = paste(flux_dev$Produit, flux_dev$Objectif)\n",
    "flux_dev[\"Flux_Dev_Produit\"] = paste(flux_dev$Flux_Dev_Produit, flux_dev$Élément)\n",
    "flux_dev[\"Flux_Dev_Produit\"] = paste(flux_dev$Flux_Dev_Produit, flux_dev$Unité)\n",
    "flux_dev_concat = flux_dev[, c(\"Pays.bénéficiaire\",\"Flux_Dev_Produit\", \"Valeur\")]\n",
    "colnames(flux_dev_concat)[1] = \"Zone\"\n",
    "flux_dev_concat = flux_dev_concat %>% pivot_wider(names_from = Flux_Dev_Produit, values_from = Valeur)\n",
    "head(flux_dev_concat)"
   ]
  },
  {
   "cell_type": "code",
   "execution_count": 46,
   "id": "ff14342c",
   "metadata": {},
   "outputs": [
    {
     "name": "stdout",
     "output_type": "stream",
     "text": [
      "[1] \"On a Versement comme Produit unique\"\n",
      "[1] \"On a millions comme unité\"\n",
      "[1] \"On a 179 Pays\"\n",
      "[1] \"On a 104 valeurs manquante\"\n"
     ]
    }
   ],
   "source": [
    "print(paste(\"On a\", list(unique(flux_dev$Produit)) ,\"comme Produit unique\"))\n",
    "print(paste(\"On a\", list(unique(flux_dev$Unité)), \"comme unité\"))\n",
    "print(paste(\"On a\",length(unique(flux_dev_concat$Zone)), \"Pays\"))\n",
    "print(paste(\"On a\", sum(is.na(flux_dev_concat)), \"valeurs manquante\"))"
   ]
  },
  {
   "cell_type": "code",
   "execution_count": 47,
   "id": "2c217ab2",
   "metadata": {},
   "outputs": [
    {
     "data": {
      "text/html": [
       "<style>\n",
       ".dl-inline {width: auto; margin:0; padding: 0}\n",
       ".dl-inline>dt, .dl-inline>dd {float: none; width: auto; display: inline-block}\n",
       ".dl-inline>dt::after {content: \":\\0020\"; padding-right: .5ex}\n",
       ".dl-inline>dt:not(:first-of-type) {padding-left: .5ex}\n",
       "</style><dl class=dl-inline><dt>Zone</dt><dd>0</dd><dt>Versement Agriculture Valeur US $ millions</dt><dd>104</dd></dl>\n"
      ],
      "text/latex": [
       "\\begin{description*}\n",
       "\\item[Zone] 0\n",
       "\\item[Versement Agriculture Valeur US \\textbackslash{}\\$ millions] 104\n",
       "\\end{description*}\n"
      ],
      "text/markdown": [
       "Zone\n",
       ":   0Versement Agriculture Valeur US $ millions\n",
       ":   104\n",
       "\n"
      ],
      "text/plain": [
       "                                      Zone \n",
       "                                         0 \n",
       "Versement Agriculture Valeur US $ millions \n",
       "                                       104 "
      ]
     },
     "metadata": {},
     "output_type": "display_data"
    }
   ],
   "source": [
    "colSums(is.na(flux_dev_concat))\n",
    "flux_dev_concat[is.na(flux_dev_concat)] = 0"
   ]
  },
  {
   "cell_type": "markdown",
   "id": "0392cb4e",
   "metadata": {},
   "source": [
    "<h3> Merge des dataframe Investissement </h3>"
   ]
  },
  {
   "cell_type": "code",
   "execution_count": 48,
   "id": "533afca0",
   "metadata": {},
   "outputs": [
    {
     "data": {
      "text/html": [
       "<table class=\"dataframe\">\n",
       "<caption>A data.frame: 6 × 3</caption>\n",
       "<thead>\n",
       "\t<tr><th></th><th scope=col>Zone</th><th scope=col>Valeur US $ IED - entrées totales millions</th><th scope=col>Versement Agriculture Valeur US $ millions</th></tr>\n",
       "\t<tr><th></th><th scope=col>&lt;chr&gt;</th><th scope=col>&lt;dbl&gt;</th><th scope=col>&lt;dbl&gt;</th></tr>\n",
       "</thead>\n",
       "<tbody>\n",
       "\t<tr><th scope=row>1</th><td>Afghanistan   </td><td>   53.39000</td><td>0.000000</td></tr>\n",
       "\t<tr><th scope=row>2</th><td>Afrique du Sud</td><td> 2008.36098</td><td>1.266818</td></tr>\n",
       "\t<tr><th scope=row>3</th><td>Albanie       </td><td> 1148.89122</td><td>0.000000</td></tr>\n",
       "\t<tr><th scope=row>4</th><td>Algérie       </td><td> 1232.34192</td><td>0.003585</td></tr>\n",
       "\t<tr><th scope=row>5</th><td>Angola        </td><td>-7397.29541</td><td>0.000000</td></tr>\n",
       "\t<tr><th scope=row>6</th><td>Anguilla      </td><td>   53.53482</td><td>0.000000</td></tr>\n",
       "</tbody>\n",
       "</table>\n"
      ],
      "text/latex": [
       "A data.frame: 6 × 3\n",
       "\\begin{tabular}{r|lll}\n",
       "  & Zone & Valeur US \\$ IED - entrées totales millions & Versement Agriculture Valeur US \\$ millions\\\\\n",
       "  & <chr> & <dbl> & <dbl>\\\\\n",
       "\\hline\n",
       "\t1 & Afghanistan    &    53.39000 & 0.000000\\\\\n",
       "\t2 & Afrique du Sud &  2008.36098 & 1.266818\\\\\n",
       "\t3 & Albanie        &  1148.89122 & 0.000000\\\\\n",
       "\t4 & Algérie        &  1232.34192 & 0.003585\\\\\n",
       "\t5 & Angola         & -7397.29541 & 0.000000\\\\\n",
       "\t6 & Anguilla       &    53.53482 & 0.000000\\\\\n",
       "\\end{tabular}\n"
      ],
      "text/markdown": [
       "\n",
       "A data.frame: 6 × 3\n",
       "\n",
       "| <!--/--> | Zone &lt;chr&gt; | Valeur US $ IED - entrées totales millions &lt;dbl&gt; | Versement Agriculture Valeur US $ millions &lt;dbl&gt; |\n",
       "|---|---|---|---|\n",
       "| 1 | Afghanistan    |    53.39000 | 0.000000 |\n",
       "| 2 | Afrique du Sud |  2008.36098 | 1.266818 |\n",
       "| 3 | Albanie        |  1148.89122 | 0.000000 |\n",
       "| 4 | Algérie        |  1232.34192 | 0.003585 |\n",
       "| 5 | Angola         | -7397.29541 | 0.000000 |\n",
       "| 6 | Anguilla       |    53.53482 | 0.000000 |\n",
       "\n"
      ],
      "text/plain": [
       "  Zone           Valeur US $ IED - entrées totales millions\n",
       "1 Afghanistan       53.39000                               \n",
       "2 Afrique du Sud  2008.36098                               \n",
       "3 Albanie         1148.89122                               \n",
       "4 Algérie         1232.34192                               \n",
       "5 Angola         -7397.29541                               \n",
       "6 Anguilla          53.53482                               \n",
       "  Versement Agriculture Valeur US $ millions\n",
       "1 0.000000                                  \n",
       "2 1.266818                                  \n",
       "3 0.000000                                  \n",
       "4 0.003585                                  \n",
       "5 0.000000                                  \n",
       "6 0.000000                                  "
      ]
     },
     "metadata": {},
     "output_type": "display_data"
    }
   ],
   "source": [
    "donnees_investissement = merge(profil_invest_concat, flux_dev_concat, by = \"Zone\", \n",
    "    ) \n",
    "\n",
    "write.csv(donnees_investissement, file = \"~/OpenClassrooms/Projet 9/data/merged/donnees_investissement.csv\", \n",
    "    fileEncoding = \"UTF-8\", row.names = FALSE)\n",
    "head(donnees_investissement)"
   ]
  },
  {
   "cell_type": "code",
   "execution_count": 49,
   "id": "23ecc0f9",
   "metadata": {},
   "outputs": [
    {
     "data": {
      "text/html": [
       "<style>\n",
       ".dl-inline {width: auto; margin:0; padding: 0}\n",
       ".dl-inline>dt, .dl-inline>dd {float: none; width: auto; display: inline-block}\n",
       ".dl-inline>dt::after {content: \":\\0020\"; padding-right: .5ex}\n",
       ".dl-inline>dt:not(:first-of-type) {padding-left: .5ex}\n",
       "</style><dl class=dl-inline><dt>Zone</dt><dd>0</dd><dt>Valeur US $ IED - entrées totales millions</dt><dd>0</dd><dt>Versement Agriculture Valeur US $ millions</dt><dd>0</dd></dl>\n"
      ],
      "text/latex": [
       "\\begin{description*}\n",
       "\\item[Zone] 0\n",
       "\\item[Valeur US \\textbackslash{}\\$ IED - entrées totales millions] 0\n",
       "\\item[Versement Agriculture Valeur US \\textbackslash{}\\$ millions] 0\n",
       "\\end{description*}\n"
      ],
      "text/markdown": [
       "Zone\n",
       ":   0Valeur US $ IED - entrées totales millions\n",
       ":   0Versement Agriculture Valeur US $ millions\n",
       ":   0\n",
       "\n"
      ],
      "text/plain": [
       "                                      Zone \n",
       "                                         0 \n",
       "Valeur US $ IED - entrées totales millions \n",
       "                                         0 \n",
       "Versement Agriculture Valeur US $ millions \n",
       "                                         0 "
      ]
     },
     "metadata": {},
     "output_type": "display_data"
    },
    {
     "data": {
      "text/html": [
       "<table class=\"dataframe\">\n",
       "<caption>A matrix: 2 × 2 of type dbl</caption>\n",
       "<thead>\n",
       "\t<tr><th></th><th scope=col>Valeur US $ IED - entrées totales millions</th><th scope=col>Versement Agriculture Valeur US $ millions</th></tr>\n",
       "</thead>\n",
       "<tbody>\n",
       "\t<tr><th scope=row>Valeur US $ IED - entrées totales millions</th><td> 1.00000000</td><td>-0.02008574</td></tr>\n",
       "\t<tr><th scope=row>Versement Agriculture Valeur US $ millions</th><td>-0.02008574</td><td> 1.00000000</td></tr>\n",
       "</tbody>\n",
       "</table>\n"
      ],
      "text/latex": [
       "A matrix: 2 × 2 of type dbl\n",
       "\\begin{tabular}{r|ll}\n",
       "  & Valeur US \\$ IED - entrées totales millions & Versement Agriculture Valeur US \\$ millions\\\\\n",
       "\\hline\n",
       "\tValeur US \\$ IED - entrées totales millions &  1.00000000 & -0.02008574\\\\\n",
       "\tVersement Agriculture Valeur US \\$ millions & -0.02008574 &  1.00000000\\\\\n",
       "\\end{tabular}\n"
      ],
      "text/markdown": [
       "\n",
       "A matrix: 2 × 2 of type dbl\n",
       "\n",
       "| <!--/--> | Valeur US $ IED - entrées totales millions | Versement Agriculture Valeur US $ millions |\n",
       "|---|---|---|\n",
       "| Valeur US $ IED - entrées totales millions |  1.00000000 | -0.02008574 |\n",
       "| Versement Agriculture Valeur US $ millions | -0.02008574 |  1.00000000 |\n",
       "\n"
      ],
      "text/plain": [
       "                                           Valeur US $ IED - entrées totales millions\n",
       "Valeur US $ IED - entrées totales millions  1.00000000                               \n",
       "Versement Agriculture Valeur US $ millions -0.02008574                               \n",
       "                                           Versement Agriculture Valeur US $ millions\n",
       "Valeur US $ IED - entrées totales millions -0.02008574                               \n",
       "Versement Agriculture Valeur US $ millions  1.00000000                               "
      ]
     },
     "metadata": {},
     "output_type": "display_data"
    }
   ],
   "source": [
    "colSums(is.na(donnees_investissement))\n",
    "cor(na.omit(donnees_investissement %>% select(!c(\"Zone\"))))"
   ]
  },
  {
   "cell_type": "code",
   "execution_count": 50,
   "id": "a02a9f16",
   "metadata": {},
   "outputs": [
    {
     "data": {
      "text/html": [
       "<style>\n",
       ".dl-inline {width: auto; margin:0; padding: 0}\n",
       ".dl-inline>dt, .dl-inline>dd {float: none; width: auto; display: inline-block}\n",
       ".dl-inline>dt::after {content: \":\\0020\"; padding-right: .5ex}\n",
       ".dl-inline>dt:not(:first-of-type) {padding-left: .5ex}\n",
       "</style><dl class=dl-inline><dt>Zone</dt><dd>0</dd><dt>Valeur US $ IED - entrées totales millions</dt><dd>0</dd><dt>Versement Agriculture Valeur US $ millions</dt><dd>0</dd></dl>\n"
      ],
      "text/latex": [
       "\\begin{description*}\n",
       "\\item[Zone] 0\n",
       "\\item[Valeur US \\textbackslash{}\\$ IED - entrées totales millions] 0\n",
       "\\item[Versement Agriculture Valeur US \\textbackslash{}\\$ millions] 0\n",
       "\\end{description*}\n"
      ],
      "text/markdown": [
       "Zone\n",
       ":   0Valeur US $ IED - entrées totales millions\n",
       ":   0Versement Agriculture Valeur US $ millions\n",
       ":   0\n",
       "\n"
      ],
      "text/plain": [
       "                                      Zone \n",
       "                                         0 \n",
       "Valeur US $ IED - entrées totales millions \n",
       "                                         0 \n",
       "Versement Agriculture Valeur US $ millions \n",
       "                                         0 "
      ]
     },
     "metadata": {},
     "output_type": "display_data"
    }
   ],
   "source": [
    "colSums(is.na(donnees_investissement))"
   ]
  },
  {
   "cell_type": "markdown",
   "id": "f5854653",
   "metadata": {},
   "source": [
    "<h1> Environnement </h1>"
   ]
  },
  {
   "cell_type": "code",
   "execution_count": 51,
   "id": "799bfddc",
   "metadata": {},
   "outputs": [],
   "source": [
    "emissions = read.csv(\"~/OpenClassrooms/Projet 9/data/Environnement/FAOSTAT_Intensités des émissions.csv\", \n",
    "    encoding = \"UTF-8\")"
   ]
  },
  {
   "cell_type": "code",
   "execution_count": 52,
   "id": "70ab892d",
   "metadata": {},
   "outputs": [
    {
     "data": {
      "text/html": [
       "<table class=\"dataframe\">\n",
       "<caption>A tibble: 6 × 2</caption>\n",
       "<thead>\n",
       "\t<tr><th scope=col>Zone</th><th scope=col>Émissions (CO2eq) Viande, volaille gigagrammes</th></tr>\n",
       "\t<tr><th scope=col>&lt;chr&gt;</th><th scope=col>&lt;dbl&gt;</th></tr>\n",
       "</thead>\n",
       "<tbody>\n",
       "\t<tr><td>Afghanistan   </td><td> 11.4021</td></tr>\n",
       "\t<tr><td>Afrique du Sud</td><td>617.8128</td></tr>\n",
       "\t<tr><td>Albanie       </td><td> 11.5674</td></tr>\n",
       "\t<tr><td>Algérie       </td><td>490.2887</td></tr>\n",
       "\t<tr><td>Allemagne     </td><td>458.2107</td></tr>\n",
       "\t<tr><td>Andorre       </td><td>  0.0000</td></tr>\n",
       "</tbody>\n",
       "</table>\n"
      ],
      "text/latex": [
       "A tibble: 6 × 2\n",
       "\\begin{tabular}{ll}\n",
       " Zone & Émissions (CO2eq) Viande, volaille gigagrammes\\\\\n",
       " <chr> & <dbl>\\\\\n",
       "\\hline\n",
       "\t Afghanistan    &  11.4021\\\\\n",
       "\t Afrique du Sud & 617.8128\\\\\n",
       "\t Albanie        &  11.5674\\\\\n",
       "\t Algérie        & 490.2887\\\\\n",
       "\t Allemagne      & 458.2107\\\\\n",
       "\t Andorre        &   0.0000\\\\\n",
       "\\end{tabular}\n"
      ],
      "text/markdown": [
       "\n",
       "A tibble: 6 × 2\n",
       "\n",
       "| Zone &lt;chr&gt; | Émissions (CO2eq) Viande, volaille gigagrammes &lt;dbl&gt; |\n",
       "|---|---|\n",
       "| Afghanistan    |  11.4021 |\n",
       "| Afrique du Sud | 617.8128 |\n",
       "| Albanie        |  11.5674 |\n",
       "| Algérie        | 490.2887 |\n",
       "| Allemagne      | 458.2107 |\n",
       "| Andorre        |   0.0000 |\n",
       "\n"
      ],
      "text/plain": [
       "  Zone           Émissions (CO2eq) Viande, volaille gigagrammes\n",
       "1 Afghanistan     11.4021                                      \n",
       "2 Afrique du Sud 617.8128                                      \n",
       "3 Albanie         11.5674                                      \n",
       "4 Algérie        490.2887                                      \n",
       "5 Allemagne      458.2107                                      \n",
       "6 Andorre          0.0000                                      "
      ]
     },
     "metadata": {},
     "output_type": "display_data"
    }
   ],
   "source": [
    "emissions[\"emissions\"] = paste(emissions$Élément, emissions$Produit)\n",
    "emissions[\"emissions\"] = paste(emissions$emissions, emissions$Unité)\n",
    "emissions_concat = emissions[, c(\"Zone\", \"emissions\", \"Valeur\")]\n",
    "emissions_concat = emissions_concat %>% pivot_wider(names_from = emissions, values_from = Valeur)\n",
    "head(emissions_concat)"
   ]
  },
  {
   "cell_type": "code",
   "execution_count": 53,
   "id": "878b1350",
   "metadata": {},
   "outputs": [
    {
     "name": "stdout",
     "output_type": "stream",
     "text": [
      "[1] \"On a Viande, volaille comme Produit unique\"\n",
      "[1] \"On a gigagrammes comme unité\"\n",
      "[1] \"On a 251 Pays\"\n",
      "[1] \"On a 0 valeurs manquante\"\n"
     ]
    }
   ],
   "source": [
    "print(paste(\"On a\", list(unique(emissions$Produit)) ,\"comme Produit unique\"))\n",
    "print(paste(\"On a\", list(unique(emissions$Unité)), \"comme unité\"))\n",
    "print(paste(\"On a\",length(unique(emissions_concat$Zone)), \"Pays\"))\n",
    "print(paste(\"On a\", sum(is.na(emissions_concat)), \"valeurs manquante\"))"
   ]
  },
  {
   "cell_type": "code",
   "execution_count": 54,
   "id": "f4ed831e",
   "metadata": {},
   "outputs": [],
   "source": [
    "tend_elevage = read.csv(\"~/OpenClassrooms/Projet 9/data/FAO_TendanceElevage_2017.csv\", \n",
    "    encoding = \"UTF-8\")"
   ]
  },
  {
   "cell_type": "code",
   "execution_count": 55,
   "id": "35a8e6b2",
   "metadata": {},
   "outputs": [
    {
     "data": {
      "text/html": [
       "<table class=\"dataframe\">\n",
       "<caption>A tibble: 6 × 2</caption>\n",
       "<thead>\n",
       "\t<tr><th scope=col>Zone</th><th scope=col>Réserves Poulets Unités de gros bétail (UGB)</th></tr>\n",
       "\t<tr><th scope=col>&lt;chr&gt;</th><th scope=col>&lt;dbl&gt;</th></tr>\n",
       "</thead>\n",
       "<tbody>\n",
       "\t<tr><td>Afghanistan   </td><td> 135730</td></tr>\n",
       "\t<tr><td>Afrique du Sud</td><td>1746810</td></tr>\n",
       "\t<tr><td>Albanie       </td><td>  78350</td></tr>\n",
       "\t<tr><td>Algérie       </td><td>1362070</td></tr>\n",
       "\t<tr><td>Allemagne     </td><td>1600000</td></tr>\n",
       "\t<tr><td>Angola        </td><td> 365000</td></tr>\n",
       "</tbody>\n",
       "</table>\n"
      ],
      "text/latex": [
       "A tibble: 6 × 2\n",
       "\\begin{tabular}{ll}\n",
       " Zone & Réserves Poulets Unités de gros bétail (UGB)\\\\\n",
       " <chr> & <dbl>\\\\\n",
       "\\hline\n",
       "\t Afghanistan    &  135730\\\\\n",
       "\t Afrique du Sud & 1746810\\\\\n",
       "\t Albanie        &   78350\\\\\n",
       "\t Algérie        & 1362070\\\\\n",
       "\t Allemagne      & 1600000\\\\\n",
       "\t Angola         &  365000\\\\\n",
       "\\end{tabular}\n"
      ],
      "text/markdown": [
       "\n",
       "A tibble: 6 × 2\n",
       "\n",
       "| Zone &lt;chr&gt; | Réserves Poulets Unités de gros bétail (UGB) &lt;dbl&gt; |\n",
       "|---|---|\n",
       "| Afghanistan    |  135730 |\n",
       "| Afrique du Sud | 1746810 |\n",
       "| Albanie        |   78350 |\n",
       "| Algérie        | 1362070 |\n",
       "| Allemagne      | 1600000 |\n",
       "| Angola         |  365000 |\n",
       "\n"
      ],
      "text/plain": [
       "  Zone           Réserves Poulets Unités de gros bétail (UGB)\n",
       "1 Afghanistan     135730                                     \n",
       "2 Afrique du Sud 1746810                                     \n",
       "3 Albanie          78350                                     \n",
       "4 Algérie        1362070                                     \n",
       "5 Allemagne      1600000                                     \n",
       "6 Angola          365000                                     "
      ]
     },
     "metadata": {},
     "output_type": "display_data"
    }
   ],
   "source": [
    "tend_elevage = filter(tend_elevage, Élément %in% c(\"Réserves\"))\n",
    "tend_elevage[\"Tend_Elevage\"] = paste(tend_elevage$Élément, tend_elevage$Produit)\n",
    "tend_elevage[\"Tend_Elevage\"] = paste(tend_elevage$Tend_Elevage, tend_elevage$Unité)\n",
    "tend_elevage_concat = tend_elevage[, c(\"Zone\", \"Tend_Elevage\", \"Valeur\")]\n",
    "tend_elevage_concat = tend_elevage_concat %>% pivot_wider(names_from = Tend_Elevage, values_from = Valeur)\n",
    "head(tend_elevage_concat)"
   ]
  },
  {
   "cell_type": "code",
   "execution_count": 56,
   "id": "ac3efe47",
   "metadata": {},
   "outputs": [
    {
     "name": "stdout",
     "output_type": "stream",
     "text": [
      "[1] \"On a Poulets comme Produit unique\"\n",
      "[1] \"On a Unités de gros bétail (UGB) comme unité\"\n",
      "[1] \"On a 196 Pays\"\n",
      "[1] \"On a 0 valeurs manquante\"\n"
     ]
    }
   ],
   "source": [
    "print(paste(\"On a\", list(unique(tend_elevage$Produit)) ,\"comme Produit unique\"))\n",
    "print(paste(\"On a\", list(unique(tend_elevage$Unité)), \"comme unité\"))\n",
    "print(paste(\"On a\",length(unique(tend_elevage_concat$Zone)), \"Pays\"))\n",
    "print(paste(\"On a\", sum(is.na(tend_elevage_concat)), \"valeurs manquante\"))"
   ]
  },
  {
   "cell_type": "code",
   "execution_count": 57,
   "id": "fcf3e789",
   "metadata": {},
   "outputs": [],
   "source": [
    "donnees_environ = merge(emissions_concat, tend_elevage_concat, on='Zone')"
   ]
  },
  {
   "cell_type": "markdown",
   "id": "58028268",
   "metadata": {},
   "source": [
    "<h1> Merge Final - donnees_etudes </h1>"
   ]
  },
  {
   "cell_type": "code",
   "execution_count": 58,
   "id": "b49a7a1c",
   "metadata": {},
   "outputs": [],
   "source": [
    "donnees_etudes = merge(donnees_environ, emploi_agri_concat, on='Zone')\n",
    "donnees_etudes = merge(donnees_etudes, donnees_alimentaire, on='Zone')\n",
    "donnees_etudes = merge(donnees_etudes, prix_conso_concat, on='Zone')\n",
    "donnees_etudes = merge(donnees_etudes, profil_invest_concat, on='Zone')\n",
    "donnees_etudes = merge(donnees_etudes, donnees_indicateur, on='Zone')\n",
    "\n",
    "\n",
    "write.csv(donnees_etudes, file = \"~/OpenClassrooms/Projet 9/data/merged/donnees_etudes.csv\", \n",
    "    fileEncoding = \"UTF-8\", row.names = FALSE)"
   ]
  },
  {
   "cell_type": "code",
   "execution_count": 59,
   "id": "2952e45b",
   "metadata": {},
   "outputs": [
    {
     "data": {
      "text/html": [
       "<table class=\"dataframe\">\n",
       "<caption>A data.frame: 6 × 16</caption>\n",
       "<thead>\n",
       "\t<tr><th></th><th scope=col>Zone</th><th scope=col>Émissions (CO2eq) Viande, volaille gigagrammes</th><th scope=col>Réserves Poulets Unités de gros bétail (UGB)</th><th scope=col>Employment in agriculture, forestry and fishing - ILO modelled estimates Total 1000 personnes</th><th scope=col>Population</th><th scope=col>Production Viande de Volailles Milliers de tonnes</th><th scope=col>Importations - Quantité Viande de Volailles Milliers de tonnes</th><th scope=col>Variation de stock Viande de Volailles Milliers de tonnes</th><th scope=col>Exportations - Quantité Viande de Volailles Milliers de tonnes</th><th scope=col>Food price inflation %</th><th scope=col>Prix à la Consommation, Indices généraux (2015 = 100) </th><th scope=col>Valeur US $ IED - entrées totales millions</th><th scope=col>Valeur US $ Produit Intérieur Brut millions</th><th scope=col>Croissance annuelle US$ Produit Intérieur Brut %</th><th scope=col>Stabilité politique et absence de violence/terrorisme (indice)</th><th scope=col>Valeur des importations alimentaires par rapport aux exportations totales de marchandises (%) (moyenne sur 3 ans)</th></tr>\n",
       "\t<tr><th></th><th scope=col>&lt;chr&gt;</th><th scope=col>&lt;dbl&gt;</th><th scope=col>&lt;dbl&gt;</th><th scope=col>&lt;dbl&gt;</th><th scope=col>&lt;dbl&gt;</th><th scope=col>&lt;dbl&gt;</th><th scope=col>&lt;dbl&gt;</th><th scope=col>&lt;dbl&gt;</th><th scope=col>&lt;dbl&gt;</th><th scope=col>&lt;dbl&gt;</th><th scope=col>&lt;dbl&gt;</th><th scope=col>&lt;dbl&gt;</th><th scope=col>&lt;dbl&gt;</th><th scope=col>&lt;dbl&gt;</th><th scope=col>&lt;dbl&gt;</th><th scope=col>&lt;dbl&gt;</th></tr>\n",
       "</thead>\n",
       "<tbody>\n",
       "\t<tr><th scope=row>1</th><td>Afghanistan   </td><td> 11.4021</td><td> 135730</td><td>3886.590</td><td>36296.113</td><td>  28</td><td> 29</td><td>  0</td><td>  0</td><td> 6.957529</td><td>109.5907</td><td>   53.390</td><td>  18896.35</td><td> 4.865790</td><td>-2.80</td><td>363</td></tr>\n",
       "\t<tr><th scope=row>2</th><td>Afrique du Sud</td><td>617.8128</td><td>1746810</td><td> 874.329</td><td>57009.756</td><td>1667</td><td>514</td><td>  0</td><td> 63</td><td> 6.902629</td><td>112.0963</td><td> 2008.361</td><td> 349006.69</td><td>17.771989</td><td>-0.28</td><td>  6</td></tr>\n",
       "\t<tr><th scope=row>3</th><td>Albanie       </td><td> 11.5674</td><td>  78350</td><td> 444.023</td><td> 2884.169</td><td>  13</td><td> 38</td><td>  4</td><td>  0</td><td> 3.924577</td><td>103.2957</td><td> 1148.891</td><td>  13019.73</td><td> 9.765944</td><td> 0.38</td><td> 21</td></tr>\n",
       "\t<tr><th scope=row>4</th><td>Algérie       </td><td>490.2887</td><td>1362070</td><td>1114.380</td><td>41389.189</td><td> 275</td><td>  2</td><td>  0</td><td>  0</td><td> 5.040496</td><td>112.3586</td><td> 1232.342</td><td> 170096.98</td><td> 6.287889</td><td>-0.92</td><td> 23</td></tr>\n",
       "\t<tr><th scope=row>5</th><td>Allemagne     </td><td>458.2107</td><td>1600000</td><td> 532.023</td><td>82658.409</td><td>1514</td><td>842</td><td>-29</td><td>646</td><td> 2.762497</td><td>102.0087</td><td>48641.418</td><td>3690849.15</td><td> 6.441277</td><td> 0.59</td><td>  5</td></tr>\n",
       "\t<tr><th scope=row>6</th><td>Angola        </td><td>160.8742</td><td> 365000</td><td>5812.330</td><td>29816.766</td><td>  42</td><td>277</td><td>  0</td><td>  0</td><td>28.911962</td><td>169.8029</td><td>-7397.295</td><td> 122123.86</td><td>20.766647</td><td>-0.38</td><td>  7</td></tr>\n",
       "</tbody>\n",
       "</table>\n"
      ],
      "text/latex": [
       "A data.frame: 6 × 16\n",
       "\\begin{tabular}{r|llllllllllllllll}\n",
       "  & Zone & Émissions (CO2eq) Viande, volaille gigagrammes & Réserves Poulets Unités de gros bétail (UGB) & Employment in agriculture, forestry and fishing - ILO modelled estimates Total 1000 personnes & Population & Production Viande de Volailles Milliers de tonnes & Importations - Quantité Viande de Volailles Milliers de tonnes & Variation de stock Viande de Volailles Milliers de tonnes & Exportations - Quantité Viande de Volailles Milliers de tonnes & Food price inflation \\% & Prix à la Consommation, Indices généraux (2015 = 100)  & Valeur US \\$ IED - entrées totales millions & Valeur US \\$ Produit Intérieur Brut millions & Croissance annuelle US\\$ Produit Intérieur Brut \\% & Stabilité politique et absence de violence/terrorisme (indice) & Valeur des importations alimentaires par rapport aux exportations totales de marchandises (\\%) (moyenne sur 3 ans)\\\\\n",
       "  & <chr> & <dbl> & <dbl> & <dbl> & <dbl> & <dbl> & <dbl> & <dbl> & <dbl> & <dbl> & <dbl> & <dbl> & <dbl> & <dbl> & <dbl> & <dbl>\\\\\n",
       "\\hline\n",
       "\t1 & Afghanistan    &  11.4021 &  135730 & 3886.590 & 36296.113 &   28 &  29 &   0 &   0 &  6.957529 & 109.5907 &    53.390 &   18896.35 &  4.865790 & -2.80 & 363\\\\\n",
       "\t2 & Afrique du Sud & 617.8128 & 1746810 &  874.329 & 57009.756 & 1667 & 514 &   0 &  63 &  6.902629 & 112.0963 &  2008.361 &  349006.69 & 17.771989 & -0.28 &   6\\\\\n",
       "\t3 & Albanie        &  11.5674 &   78350 &  444.023 &  2884.169 &   13 &  38 &   4 &   0 &  3.924577 & 103.2957 &  1148.891 &   13019.73 &  9.765944 &  0.38 &  21\\\\\n",
       "\t4 & Algérie        & 490.2887 & 1362070 & 1114.380 & 41389.189 &  275 &   2 &   0 &   0 &  5.040496 & 112.3586 &  1232.342 &  170096.98 &  6.287889 & -0.92 &  23\\\\\n",
       "\t5 & Allemagne      & 458.2107 & 1600000 &  532.023 & 82658.409 & 1514 & 842 & -29 & 646 &  2.762497 & 102.0087 & 48641.418 & 3690849.15 &  6.441277 &  0.59 &   5\\\\\n",
       "\t6 & Angola         & 160.8742 &  365000 & 5812.330 & 29816.766 &   42 & 277 &   0 &   0 & 28.911962 & 169.8029 & -7397.295 &  122123.86 & 20.766647 & -0.38 &   7\\\\\n",
       "\\end{tabular}\n"
      ],
      "text/markdown": [
       "\n",
       "A data.frame: 6 × 16\n",
       "\n",
       "| <!--/--> | Zone &lt;chr&gt; | Émissions (CO2eq) Viande, volaille gigagrammes &lt;dbl&gt; | Réserves Poulets Unités de gros bétail (UGB) &lt;dbl&gt; | Employment in agriculture, forestry and fishing - ILO modelled estimates Total 1000 personnes &lt;dbl&gt; | Population &lt;dbl&gt; | Production Viande de Volailles Milliers de tonnes &lt;dbl&gt; | Importations - Quantité Viande de Volailles Milliers de tonnes &lt;dbl&gt; | Variation de stock Viande de Volailles Milliers de tonnes &lt;dbl&gt; | Exportations - Quantité Viande de Volailles Milliers de tonnes &lt;dbl&gt; | Food price inflation % &lt;dbl&gt; | Prix à la Consommation, Indices généraux (2015 = 100)  &lt;dbl&gt; | Valeur US $ IED - entrées totales millions &lt;dbl&gt; | Valeur US $ Produit Intérieur Brut millions &lt;dbl&gt; | Croissance annuelle US$ Produit Intérieur Brut % &lt;dbl&gt; | Stabilité politique et absence de violence/terrorisme (indice) &lt;dbl&gt; | Valeur des importations alimentaires par rapport aux exportations totales de marchandises (%) (moyenne sur 3 ans) &lt;dbl&gt; |\n",
       "|---|---|---|---|---|---|---|---|---|---|---|---|---|---|---|---|---|\n",
       "| 1 | Afghanistan    |  11.4021 |  135730 | 3886.590 | 36296.113 |   28 |  29 |   0 |   0 |  6.957529 | 109.5907 |    53.390 |   18896.35 |  4.865790 | -2.80 | 363 |\n",
       "| 2 | Afrique du Sud | 617.8128 | 1746810 |  874.329 | 57009.756 | 1667 | 514 |   0 |  63 |  6.902629 | 112.0963 |  2008.361 |  349006.69 | 17.771989 | -0.28 |   6 |\n",
       "| 3 | Albanie        |  11.5674 |   78350 |  444.023 |  2884.169 |   13 |  38 |   4 |   0 |  3.924577 | 103.2957 |  1148.891 |   13019.73 |  9.765944 |  0.38 |  21 |\n",
       "| 4 | Algérie        | 490.2887 | 1362070 | 1114.380 | 41389.189 |  275 |   2 |   0 |   0 |  5.040496 | 112.3586 |  1232.342 |  170096.98 |  6.287889 | -0.92 |  23 |\n",
       "| 5 | Allemagne      | 458.2107 | 1600000 |  532.023 | 82658.409 | 1514 | 842 | -29 | 646 |  2.762497 | 102.0087 | 48641.418 | 3690849.15 |  6.441277 |  0.59 |   5 |\n",
       "| 6 | Angola         | 160.8742 |  365000 | 5812.330 | 29816.766 |   42 | 277 |   0 |   0 | 28.911962 | 169.8029 | -7397.295 |  122123.86 | 20.766647 | -0.38 |   7 |\n",
       "\n"
      ],
      "text/plain": [
       "  Zone           Émissions (CO2eq) Viande, volaille gigagrammes\n",
       "1 Afghanistan     11.4021                                      \n",
       "2 Afrique du Sud 617.8128                                      \n",
       "3 Albanie         11.5674                                      \n",
       "4 Algérie        490.2887                                      \n",
       "5 Allemagne      458.2107                                      \n",
       "6 Angola         160.8742                                      \n",
       "  Réserves Poulets Unités de gros bétail (UGB)\n",
       "1  135730                                     \n",
       "2 1746810                                     \n",
       "3   78350                                     \n",
       "4 1362070                                     \n",
       "5 1600000                                     \n",
       "6  365000                                     \n",
       "  Employment in agriculture, forestry and fishing - ILO modelled estimates Total 1000 personnes\n",
       "1 3886.590                                                                                     \n",
       "2  874.329                                                                                     \n",
       "3  444.023                                                                                     \n",
       "4 1114.380                                                                                     \n",
       "5  532.023                                                                                     \n",
       "6 5812.330                                                                                     \n",
       "  Population Production Viande de Volailles Milliers de tonnes\n",
       "1 36296.113    28                                             \n",
       "2 57009.756  1667                                             \n",
       "3  2884.169    13                                             \n",
       "4 41389.189   275                                             \n",
       "5 82658.409  1514                                             \n",
       "6 29816.766    42                                             \n",
       "  Importations - Quantité Viande de Volailles Milliers de tonnes\n",
       "1  29                                                           \n",
       "2 514                                                           \n",
       "3  38                                                           \n",
       "4   2                                                           \n",
       "5 842                                                           \n",
       "6 277                                                           \n",
       "  Variation de stock Viande de Volailles Milliers de tonnes\n",
       "1   0                                                      \n",
       "2   0                                                      \n",
       "3   4                                                      \n",
       "4   0                                                      \n",
       "5 -29                                                      \n",
       "6   0                                                      \n",
       "  Exportations - Quantité Viande de Volailles Milliers de tonnes\n",
       "1   0                                                           \n",
       "2  63                                                           \n",
       "3   0                                                           \n",
       "4   0                                                           \n",
       "5 646                                                           \n",
       "6   0                                                           \n",
       "  Food price inflation % Prix à la Consommation, Indices généraux (2015 = 100) \n",
       "1  6.957529              109.5907                                              \n",
       "2  6.902629              112.0963                                              \n",
       "3  3.924577              103.2957                                              \n",
       "4  5.040496              112.3586                                              \n",
       "5  2.762497              102.0087                                              \n",
       "6 28.911962              169.8029                                              \n",
       "  Valeur US $ IED - entrées totales millions\n",
       "1    53.390                                 \n",
       "2  2008.361                                 \n",
       "3  1148.891                                 \n",
       "4  1232.342                                 \n",
       "5 48641.418                                 \n",
       "6 -7397.295                                 \n",
       "  Valeur US $ Produit Intérieur Brut millions\n",
       "1   18896.35                                 \n",
       "2  349006.69                                 \n",
       "3   13019.73                                 \n",
       "4  170096.98                                 \n",
       "5 3690849.15                                 \n",
       "6  122123.86                                 \n",
       "  Croissance annuelle US$ Produit Intérieur Brut %\n",
       "1  4.865790                                       \n",
       "2 17.771989                                       \n",
       "3  9.765944                                       \n",
       "4  6.287889                                       \n",
       "5  6.441277                                       \n",
       "6 20.766647                                       \n",
       "  Stabilité politique et absence de violence/terrorisme (indice)\n",
       "1 -2.80                                                         \n",
       "2 -0.28                                                         \n",
       "3  0.38                                                         \n",
       "4 -0.92                                                         \n",
       "5  0.59                                                         \n",
       "6 -0.38                                                         \n",
       "  Valeur des importations alimentaires par rapport aux exportations totales de marchandises (%) (moyenne sur 3 ans)\n",
       "1 363                                                                                                              \n",
       "2   6                                                                                                              \n",
       "3  21                                                                                                              \n",
       "4  23                                                                                                              \n",
       "5   5                                                                                                              \n",
       "6   7                                                                                                              "
      ]
     },
     "metadata": {},
     "output_type": "display_data"
    }
   ],
   "source": [
    "head(donnees_etudes)"
   ]
  },
  {
   "cell_type": "code",
   "execution_count": 60,
   "id": "33b51d07",
   "metadata": {},
   "outputs": [
    {
     "data": {
      "text/html": [
       "0"
      ],
      "text/latex": [
       "0"
      ],
      "text/markdown": [
       "0"
      ],
      "text/plain": [
       "[1] 0"
      ]
     },
     "metadata": {},
     "output_type": "display_data"
    }
   ],
   "source": [
    "sum(is.na(donnees_etudes))"
   ]
  },
  {
   "cell_type": "code",
   "execution_count": 61,
   "id": "3126d19f",
   "metadata": {},
   "outputs": [
    {
     "data": {
      "text/html": [
       "<style>\n",
       ".dl-inline {width: auto; margin:0; padding: 0}\n",
       ".dl-inline>dt, .dl-inline>dd {float: none; width: auto; display: inline-block}\n",
       ".dl-inline>dt::after {content: \":\\0020\"; padding-right: .5ex}\n",
       ".dl-inline>dt:not(:first-of-type) {padding-left: .5ex}\n",
       "</style><dl class=dl-inline><dt>Zone</dt><dd>0</dd><dt>Émissions (CO2eq) Viande, volaille gigagrammes</dt><dd>0</dd><dt>Réserves Poulets Unités de gros bétail (UGB)</dt><dd>0</dd><dt>Employment in agriculture, forestry and fishing - ILO modelled estimates Total 1000 personnes</dt><dd>0</dd><dt>Population</dt><dd>0</dd><dt>Production Viande de Volailles Milliers de tonnes</dt><dd>0</dd><dt>Importations - Quantité Viande de Volailles Milliers de tonnes</dt><dd>0</dd><dt>Variation de stock Viande de Volailles Milliers de tonnes</dt><dd>0</dd><dt>Exportations - Quantité Viande de Volailles Milliers de tonnes</dt><dd>0</dd><dt>Food price inflation %</dt><dd>0</dd><dt>Prix à la Consommation, Indices généraux (2015 = 100) </dt><dd>0</dd><dt>Valeur US $ IED - entrées totales millions</dt><dd>0</dd><dt>Valeur US $ Produit Intérieur Brut millions</dt><dd>0</dd><dt>Croissance annuelle US$ Produit Intérieur Brut %</dt><dd>0</dd><dt>Stabilité politique et absence de violence/terrorisme (indice)</dt><dd>0</dd><dt>Valeur des importations alimentaires par rapport aux exportations totales de marchandises (%) (moyenne sur 3 ans)</dt><dd>0</dd></dl>\n"
      ],
      "text/latex": [
       "\\begin{description*}\n",
       "\\item[Zone] 0\n",
       "\\item[Émissions (CO2eq) Viande, volaille gigagrammes] 0\n",
       "\\item[Réserves Poulets Unités de gros bétail (UGB)] 0\n",
       "\\item[Employment in agriculture, forestry and fishing - ILO modelled estimates Total 1000 personnes] 0\n",
       "\\item[Population] 0\n",
       "\\item[Production Viande de Volailles Milliers de tonnes] 0\n",
       "\\item[Importations - Quantité Viande de Volailles Milliers de tonnes] 0\n",
       "\\item[Variation de stock Viande de Volailles Milliers de tonnes] 0\n",
       "\\item[Exportations - Quantité Viande de Volailles Milliers de tonnes] 0\n",
       "\\item[Food price inflation \\textbackslash{}\\%] 0\n",
       "\\item[Prix à la Consommation, Indices généraux (2015 = 100) ] 0\n",
       "\\item[Valeur US \\textbackslash{}\\$ IED - entrées totales millions] 0\n",
       "\\item[Valeur US \\textbackslash{}\\$ Produit Intérieur Brut millions] 0\n",
       "\\item[Croissance annuelle US\\textbackslash{}\\$ Produit Intérieur Brut \\textbackslash{}\\%] 0\n",
       "\\item[Stabilité politique et absence de violence/terrorisme (indice)] 0\n",
       "\\item[Valeur des importations alimentaires par rapport aux exportations totales de marchandises (\\textbackslash{}\\%) (moyenne sur 3 ans)] 0\n",
       "\\end{description*}\n"
      ],
      "text/markdown": [
       "Zone\n",
       ":   0Émissions (CO2eq) Viande, volaille gigagrammes\n",
       ":   0Réserves Poulets Unités de gros bétail (UGB)\n",
       ":   0Employment in agriculture, forestry and fishing - ILO modelled estimates Total 1000 personnes\n",
       ":   0Population\n",
       ":   0Production Viande de Volailles Milliers de tonnes\n",
       ":   0Importations - Quantité Viande de Volailles Milliers de tonnes\n",
       ":   0Variation de stock Viande de Volailles Milliers de tonnes\n",
       ":   0Exportations - Quantité Viande de Volailles Milliers de tonnes\n",
       ":   0Food price inflation %\n",
       ":   0Prix à la Consommation, Indices généraux (2015 = 100) \n",
       ":   0Valeur US $ IED - entrées totales millions\n",
       ":   0Valeur US $ Produit Intérieur Brut millions\n",
       ":   0Croissance annuelle US$ Produit Intérieur Brut %\n",
       ":   0Stabilité politique et absence de violence/terrorisme (indice)\n",
       ":   0Valeur des importations alimentaires par rapport aux exportations totales de marchandises (%) (moyenne sur 3 ans)\n",
       ":   0\n",
       "\n"
      ],
      "text/plain": [
       "                                                                                                             Zone \n",
       "                                                                                                                0 \n",
       "                                                                   Émissions (CO2eq) Viande, volaille gigagrammes \n",
       "                                                                                                                0 \n",
       "                                                                     Réserves Poulets Unités de gros bétail (UGB) \n",
       "                                                                                                                0 \n",
       "                    Employment in agriculture, forestry and fishing - ILO modelled estimates Total 1000 personnes \n",
       "                                                                                                                0 \n",
       "                                                                                                       Population \n",
       "                                                                                                                0 \n",
       "                                                                Production Viande de Volailles Milliers de tonnes \n",
       "                                                                                                                0 \n",
       "                                                   Importations - Quantité Viande de Volailles Milliers de tonnes \n",
       "                                                                                                                0 \n",
       "                                                        Variation de stock Viande de Volailles Milliers de tonnes \n",
       "                                                                                                                0 \n",
       "                                                   Exportations - Quantité Viande de Volailles Milliers de tonnes \n",
       "                                                                                                                0 \n",
       "                                                                                           Food price inflation % \n",
       "                                                                                                                0 \n",
       "                                                           Prix à la Consommation, Indices généraux (2015 = 100)  \n",
       "                                                                                                                0 \n",
       "                                                                       Valeur US $ IED - entrées totales millions \n",
       "                                                                                                                0 \n",
       "                                                                      Valeur US $ Produit Intérieur Brut millions \n",
       "                                                                                                                0 \n",
       "                                                                 Croissance annuelle US$ Produit Intérieur Brut % \n",
       "                                                                                                                0 \n",
       "                                                   Stabilité politique et absence de violence/terrorisme (indice) \n",
       "                                                                                                                0 \n",
       "Valeur des importations alimentaires par rapport aux exportations totales de marchandises (%) (moyenne sur 3 ans) \n",
       "                                                                                                                0 "
      ]
     },
     "metadata": {},
     "output_type": "display_data"
    }
   ],
   "source": [
    "colSums(is.na(donnees_etudes))"
   ]
  }
 ],
 "metadata": {
  "kernelspec": {
   "display_name": "R",
   "language": "R",
   "name": "ir"
  },
  "language_info": {
   "codemirror_mode": "r",
   "file_extension": ".r",
   "mimetype": "text/x-r-source",
   "name": "R",
   "pygments_lexer": "r",
   "version": "4.1.2"
  },
  "toc": {
   "base_numbering": 1,
   "nav_menu": {},
   "number_sections": false,
   "sideBar": true,
   "skip_h1_title": false,
   "title_cell": "Table of Contents",
   "title_sidebar": "Contents",
   "toc_cell": false,
   "toc_position": {
    "height": "calc(100% - 180px)",
    "left": "10px",
    "top": "150px",
    "width": "341.818px"
   },
   "toc_section_display": true,
   "toc_window_display": true
  },
  "varInspector": {
   "cols": {
    "lenName": 16,
    "lenType": 16,
    "lenVar": 40
   },
   "kernels_config": {
    "python": {
     "delete_cmd_postfix": "",
     "delete_cmd_prefix": "del ",
     "library": "var_list.py",
     "varRefreshCmd": "print(var_dic_list())"
    },
    "r": {
     "delete_cmd_postfix": ") ",
     "delete_cmd_prefix": "rm(",
     "library": "var_list.r",
     "varRefreshCmd": "cat(var_dic_list()) "
    }
   },
   "types_to_exclude": [
    "module",
    "function",
    "builtin_function_or_method",
    "instance",
    "_Feature"
   ],
   "window_display": false
  }
 },
 "nbformat": 4,
 "nbformat_minor": 5
}
